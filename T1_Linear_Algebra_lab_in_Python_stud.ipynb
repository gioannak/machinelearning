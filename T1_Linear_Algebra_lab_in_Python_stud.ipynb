{
 "cells": [
  {
   "cell_type": "markdown",
   "metadata": {
    "id": "yNo0ffnIWWRG"
   },
   "source": [
    "**Mathematical Notation**\n",
    "\n",
    "<table style=\"width:90%\">\n",
    "    <tr>\n",
    "        <th style=\"text-align: center;width:30%\">Type</th>\n",
    "        <th style=\"text-align: center\">Notation</th>    \n",
    "    </tr>\n",
    "    <tr>\n",
    "        <th style=\"text-align: left\">1. Scalar value, feature:</th>\n",
    "        <th style=\"text-align: center\">$x\\in \\mathbb{R}$</th>\n",
    "    </tr>\n",
    "    <tr>\n",
    "        <th style=\"text-align: left\">2. Set of features (feature set):</th>\n",
    "        <th style=\"text-align: center\">$\\{x_1,x_2,\\dots,x_n\\} \\doteq \\{x_i\\}_{i=1}^{N}$</th>\n",
    "    </tr>\n",
    "    <tr>\n",
    "        <th style=\"text-align: left\">3. feature vector:</th>\n",
    "        <th style=\"text-align: center\">\\begin{equation*}\\mathbf{x}=\\begin{bmatrix}x_1\\\\x_2\\\\ \\vdots \\\\ x_D \\end{bmatrix}\\in \\mathbb{R}^D\\end{equation*}</th>\n",
    "    </tr>\n",
    "    <tr>\n",
    "        <th style=\"text-align: left\">4. Transposed vector (row matrix): </th>\n",
    "        <th style=\"text-align: center\">$\\mathbf{x}^T=[x_1,x_2,\\dots,x_D]\\in \\mathbb{R}^{1xD}$</th>\n",
    "    </tr>\n",
    "    <tr>\n",
    "        <th style=\"text-align: left\">5. Set of N D-dimensional vectors: </th>\n",
    "        <th style=\"text-align: center\">$\\{\\mathbf{x_1},\\mathbf{x_2},\\dots,\\mathbf{x_1}\\}\\doteq {\\mathbf{\\{x_i\\}}_{i=1}^{N}}$</th>\n",
    "    </tr>\n",
    "    <tr>\n",
    "        <th style=\"text-align: left\">6. Matrix D(rows)x N (columns):</th>\n",
    "        <th style=\"text-align: center\">\\begin{equation*}\\mathbf{X}=\\begin{bmatrix}x_{11} & x_{12} & \\dots\\\\ \\vdots & \\ddots &\\\\ x_{D1} & & x_{DN}\\end{bmatrix}\\in \\mathbb{R}^{DxN}\\end{equation*}</th>\n",
    "    </tr>\n",
    "</table>\n"
   ]
  },
  {
   "cell_type": "markdown",
   "metadata": {
    "id": "-y8VpJWSWWRI"
   },
   "source": [
    "## Numpy (https://numpy.org/)\n",
    "\n",
    "The library to perform math operations."
   ]
  },
  {
   "cell_type": "code",
   "execution_count": null,
   "metadata": {
    "id": "yqsdoJPUWWRI"
   },
   "outputs": [],
   "source": [
    "# Import Numpy library\n"
   ]
  },
  {
   "cell_type": "code",
   "execution_count": null,
   "metadata": {
    "id": "WZ8vyDsiWWRJ"
   },
   "outputs": [],
   "source": [
    "# 1. Define a scalar variable a = 3.14\n",
    "\n",
    "\n",
    "# 2. Define a set of features x = [1,2,3]\n",
    "\n",
    "\n",
    "# 3. Define a vector b = [1,2,3]^T\n",
    "\n",
    "\n",
    "# 4. Define a row matrix c = [1,2,3,4,5]\n",
    "\n",
    "\n",
    "# 5. Set of 3 3-dimensional vectors\n",
    "\n",
    "\n",
    "# 6. Define a 4x4 matrix where every row is has 1,2,3,4\n"
   ]
  },
  {
   "cell_type": "markdown",
   "metadata": {
    "id": "VxPr0qAHWWRJ"
   },
   "source": [
    "## Matrix Types\n",
    "\n",
    "<table style=\"width:100%\">\n",
    "    <tr>\n",
    "        <th style=\"text-align: center;width:30%\">Matrix type</th>\n",
    "        <th style=\"text-align: center\">Description</th>    \n",
    "    </tr>\n",
    "     <tr>\n",
    "        <th style=\"text-align: center;width:30%\">Transposed matrix $\\mathbf{X}^T$:</th>\n",
    "        <th style=\"text-align: center\">$\\mathbf{X}$ <img src=\"https://github.com/gioannak/machinelearning/blob/main/figs/matrix.PNG?raw=1\" alt=\"X\"\n",
    "     style=\"display: inline-block; margin-right: 5px;\"/> and $\\mathbf{X}^T$ <img src=\"https://github.com/gioannak/machinelearning/blob/main/figs/rotmatrix.PNG?raw=1\" alt=\"X^T\" style=\"display: inline-block; margin-left: 40px;\"/></th>    \n",
    "    </tr>\n",
    "    <tr>\n",
    "        <th style=\"text-align: center;width:30%\">Matrix with ones $\\mathbf{1}_{DxN}$:</th>\n",
    "        <th style=\"text-align: center\">\\begin{equation*}\\mathbf{1}_{3x4} = \\begin{bmatrix}1 & 1 & 1 & 1\\\\1 & 1 & 1 & 1\\\\ 1 & 1 & 1 & 1\\end{bmatrix}\\end{equation*}</th>    \n",
    "    </tr>\n",
    "    <tr>\n",
    "        <th style=\"text-align: center;width:30%\">Identity Matrix \\begin{equation*}\\mathbf{I}_{3x3}\\end{equation*}</th>\n",
    "        <th style=\"text-align: center\">\\begin{equation*}\\mathbf{I}_{3x3} = \\begin{bmatrix}1 & 0 & 0\\\\0 & 1 & 0 \\\\ 0 & 0 & 1\\end{bmatrix}\\end{equation*}</th>    \n",
    "    </tr>\n",
    "    <tr>\n",
    "        <th style=\"text-align: center;width:30%\">Zero Matrix $\\mathbf{I}_{2x3}$</th>\n",
    "        <th style=\"text-align: center\">\\begin{equation*}\\mathbf{I}_{2x3} = \\begin{bmatrix}0 & 0 & 0\\\\0 & 0 & 0 \\end{bmatrix}\\end{equation*}</th>    \n",
    "    </tr>   \n",
    "    <tr>\n",
    "        <th style=\"text-align: center;width:30%\">Square Matrix $\\mathbf{X}_{DxD}$</th>\n",
    "        <th style=\"text-align: center\">\\begin{equation*}\\mathbf{I}_{2x2} = \\begin{bmatrix}4 & 2 \\\\3 & 5 \\end{bmatrix}\\end{equation*}</th>    \n",
    "    </tr> "
   ]
  },
  {
   "cell_type": "markdown",
   "metadata": {
    "id": "yfUvwoGpWWRK"
   },
   "source": [
    "Numpy offers several pre-built for matrices\n",
    "\n",
    "| Function | Description |\n",
    "| :--- | :--- |\n",
    "| np.zeros((2,2)) | create a 2x2 matrix of zeros |\n",
    "| np.ones((2,3)) | create a 2x3 matrix of ones |\n",
    "| np.eye(5) | create a 5x5 identity matrix |\n",
    "| np.empty((3,5)) | create a 3x5 placeholder matrix |\n",
    "| np.arange(1,9,2) | create a vector with values from 1 to 9 with increment of 2 |\n",
    "| np.linspace(0,1,100) | create a vector of 100 linearly spaced values between 0 and 1 |"
   ]
  },
  {
   "cell_type": "markdown",
   "metadata": {
    "id": "QYoMB9L-WWRK"
   },
   "source": [
    "| Operations with matrices | Description |\n",
    "| :--- | :--- |\n",
    "| __Matrix Equality__: | Two matrices are equal if the have the same dimensions and the corresponding elements are equal: $\\mathbf{X}=\\mathbf{Y}$ and $\\mathbf{X}+\\mathbf{0}=\\mathbf{X}$ |\n",
    "| __Matrix Addition__: | $\\mathbf{C}=\\mathbf{X}+{Y}$, where $c_{ij}=x_{ij}+y_{ij}$ |\n",
    "|__Dot Product__ <br>(aka __inner product__) | \\begin{equation*}\\mathbf{x}^T\\mathbf{y}=x_1y_1+x_2y_2+\\dots+x_Ny_N = \\sum\\limits_{i=1}^{N}x_iy_i\\end{equation*} |\n",
    "| __Matrix Multiplication__: | \\begin{equation*}\\mathbf{X}\\in\\mathbb{R}^{DxK},\\mathbf{Y}\\in\\mathbb{R}^{KxN},\\\\ \\mathbf{C}=\\mathbf{XY}\\in \\mathbb{R}^{DxN}, \\quad where \\quad c_{ij}=\\sum\\limits_{i=1}^{K}x_{il}y_{lj} \\\\ \\mathbf{IX}=\\mathbf{XI}=\\mathbf{X}\\\\ \\mathbf{0X}=\\mathbf{0}\\end{equation*}|"
   ]
  },
  {
   "cell_type": "markdown",
   "metadata": {
    "id": "QlS5oBi9WWRK"
   },
   "source": [
    "## Matrix Addition and Subtraction\n",
    "\n",
    "#### a. Adding or Subtracting a scalar value to a matrix\n",
    "\n",
    "Let $\\mathbf{A}$ be a matrix of $2x2$ dimensions <br>\n",
    "\n",
    "<p style=\"text-align: center\">\n",
    "\\begin{equation*}\\mathbf{A}=\\begin{bmatrix}a_{00} & a_{01} \\\\ a_{10} & a_{11}\\end{bmatrix}\\end{equation*}\n",
    "</p>\n",
    "\n",
    "Now consider adding a scalar value (e.g. 4): <br>\n",
    "\n",
    "<p style=\"text-align: center\">\n",
    "\\begin{equation*}\\mathbf{A}+4=\\begin{bmatrix}a_{00} & a_{01} \\\\ a_{10} & a_{11}\\end{bmatrix}+4= \\begin{bmatrix}a_{00}+4 & a_{01}+4 \\\\ a_{10}+4 & a_{11}+4\\end{bmatrix}\\end{equation*}\n",
    "</p>\n",
    "\n",
    "Now consider subtracting a scalar value (e.g. 5): <br>\n",
    "\n",
    "<p style=\"text-align: center\">\n",
    "\\begin{equation*}\\mathbf{A}-5=\\begin{bmatrix}a_{00} & a_{01} \\\\ a_{10} & a_{11}\\end{bmatrix}-5= \\begin{bmatrix}a_{00}-5 & a_{01}-5 \\\\ a_{10}-5 & a_{11}-5\\end{bmatrix}\\end{equation*}\n",
    "</p>\n",
    "\n",
    "#### b. Adding or Subtracting two matrices\n",
    "\n",
    "Consider two matrices $\\mathbf{A},\\mathbf{B}$, let\n",
    "<p style=\"text-align: center\">\n",
    "\\begin{equation*}\\mathbf{A}=\\begin{bmatrix}a_{00} & a_{01} \\\\ a_{10} & a_{11}\\end{bmatrix} \\quad \\text{and} \\quad \\mathbf{B}=\\begin{bmatrix}b_{00} & b_{01} \\\\ b_{10} & b_{11}\\end{bmatrix}\\end{equation*}\n",
    "    </p>\n",
    "Then,<br>\n",
    "\n",
    "<p style=\"text-align: center\"> \n",
    "\\begin{equation*} \\mathbf{A}+\\mathbf{Β}=\\begin{bmatrix}a_{00} & a_{01} \\\\ a_{10} & a_{11}\\end{bmatrix} + \\begin{bmatrix}b_{00} & b_{01} \\\\ b_{10} & b_{11}\\end{bmatrix} \\Leftrightarrow\\end{equation*} \n",
    "</p>\n",
    "<p style=\"text-align: center\"> \n",
    "\\begin{equation*}\\mathbf{A}+\\mathbf{Β}= \\begin{bmatrix}a_{00}+b_{00} & a_{01}+b_{01} \\\\ a_{10}+b_{10} & a_{11}+b_{11}\\end{bmatrix}\\end{equation*}\n",
    "</p>    \n",
    "\n",
    "Now consider subtracting $\\mathbf{A},\\mathbf{B}$: <br>\n",
    "\n",
    "<p style=\"text-align: center\"> \n",
    "\\begin{equation*}\\mathbf{A}-\\mathbf{Β}=\\begin{bmatrix}a_{00} & a_{01} \\\\ a_{10} & a_{11}\\end{bmatrix} - \\begin{bmatrix}b_{00} & b_{01} \\\\ b_{10} & b_{11}\\end{bmatrix} \\Leftrightarrow \\end{equation*}\n",
    "</p><br>\n",
    "\n",
    "<p style=\"text-align: center\"> \n",
    "\\begin{equation*}\\mathbf{A}-\\mathbf{Β}= \\begin{bmatrix}a_{00}-b_{00} & a_{01}-b_{01} \\\\ a_{10}-b_{10} & a_{11}-b_{11}\\end{bmatrix}\\end{equation*}\n",
    "</p>    \n",
    "\n",
    "\n",
    "    "
   ]
  },
  {
   "cell_type": "code",
   "execution_count": null,
   "metadata": {
    "id": "O-RvClozWWRL"
   },
   "outputs": [],
   "source": [
    "# define random seed in order to get the same random integers\n",
    "\n",
    "\n",
    "# Define A(2x4),B(2x4) matrices with random integers \n",
    "# max integer 5\n",
    "# max integer 4\n",
    "\n",
    "# Addition of scalar value (10) to matrix A\n",
    "\n",
    "\n",
    "# Subtraction of scalar value (3) to matrix B\n",
    "\n",
    "\n",
    "# Addition of Matrix A and Matrix B\n",
    "\n",
    "\n",
    "# Subtration of matrix B from A\n",
    "\n"
   ]
  },
  {
   "cell_type": "markdown",
   "metadata": {
    "id": "XsvKtQVVWWRL"
   },
   "source": [
    "## Matrix Multiplication\n",
    "\n",
    "#### Multiplying a scalar value times a matrix\n",
    "Let<br>\n",
    "<p style=\"text-align: center\">    \n",
    "$\\mathbf{A}=\\begin{bmatrix}a_{00} & a_{01} \\\\ a_{10} & a_{11}\\end{bmatrix}$ \n",
    "</p>\n",
    "\n",
    "Then the multiplication of $A$ with $5$ is: <br>\n",
    "\n",
    "<p style=\"text-align:center\">\n",
    "$3 \\times \\mathbf{A}= 3 \\times \\begin{bmatrix}a_{00} & a_{01} \\\\ a_{10} & a_{11}\\end{bmatrix} \\quad \\Leftrightarrow$\n",
    "<br><br>\n",
    "$3 \\times \\mathbf{A}= \\begin{bmatrix}3a_{00} & 3a_{01} \\\\ 3a_{10} & 3a_{11}\\end{bmatrix}$\n",
    "</p>\n",
    "\n",
    "#### Multiplying two matrices\n",
    "Let $\\mathbf{A}$ be a ($2\\times 3$) and $\\mathbf{B}$ a ($3\\times 2$) matrix:\n",
    "\n",
    "<p style=\"text-align: center\">\n",
    "$\\mathbf{A}=\\begin{bmatrix}a_{00} & a_{01} & a_{02} \\\\ a_{10} & a_{11} & a_{12}\\end{bmatrix}_{2\\times 3} \\quad \\text{and} \\quad \\mathbf{B}=\\begin{bmatrix}b_{00} & b_{01} \\\\ b_{10} & b_{11}\\\\ b_{20} & b_{21}\\end{bmatrix}_{3\\times 2}$\n",
    "    </p>\n",
    "\n",
    "Then, <br>\n",
    "<p style=\"text-align: center\">\n",
    "$\\mathbf{A}_{3\\times 2} \\times \\mathbf{B}_{2 \\times 3} = \\begin{bmatrix}a_{00} & a_{01} & a_{02} \\\\ a_{10} & a_{11} & a_{12}\\end{bmatrix}_{2\\times 3} \\times \\begin{bmatrix}b_{00} & b_{01} \\\\ b_{10} & b_{11}\\\\ b_{20} & b_{21}\\end{bmatrix}_{3\\times 2}$\n",
    "</p>\n",
    "<br><br>\n",
    "\n",
    "<p style=\"text-align: center\">\n",
    "$\\mathbf{A}_{3\\times 2} \\times \\mathbf{B}_{2 \\times 3} = \\begin{bmatrix}a_{00}b_{00}+a_{01}b_{10}+a_{02}b_{20} & a_{00}b_{01}+a_{01}b_{11}+a_{02}b_{21}\\\\ a_{10}b_{00}+a_{11}b_{10}+a_{12}b_{20} & a_{10}b_{01}+a_{11}b_{11}+a_{12}b_{21}\\end{bmatrix}_{2x2}$\n",
    "</p>\n",
    "\n",
    "__Things to remember, if $\\mathbf{A}_{r_A x c_A}\\quad \\text{and} \\quad \\mathbf{B}_{r_B x c_B}$:__\n",
    "\n",
    "- For conformality in matrix multiplication, the number of columns of the first operand (our case matrix $\\mathbf{A}$) must be equal to the rows of the second operand (our case matrix $\\mathbf{B}$).\n",
    "- The result will be of dimensions $r_A x c_B$, or of dimension equal to the rows of the first operand and columns equal to columns of the second operand.\n",
    "- $\\mathbf{A} x \\mathbf{B}$ is __not__ equal to $\\mathbf{B} x \\mathbf{A}$, except for specific cases."
   ]
  },
  {
   "cell_type": "code",
   "execution_count": null,
   "metadata": {
    "id": "JYFprvmLWWRM",
    "outputId": "a0eb14a1-199e-4711-8df3-367204b0f303"
   },
   "outputs": [
    {
     "name": "stdout",
     "output_type": "stream",
     "text": [
      "[[ True  True]\n",
      " [ True  True]]\n",
      "True\n"
     ]
    }
   ],
   "source": [
    "# Multiplying a scalar value with a matrix\n",
    "\n",
    "\n",
    "\n",
    "# Check equality\n",
    "# element-wise comparison\n",
    "# overall comparison"
   ]
  },
  {
   "cell_type": "markdown",
   "metadata": {
    "id": "bMc2rEwsWWRN"
   },
   "source": [
    "## Inverse Matrix and Solution of a linear system\n",
    "\n",
    "- A square matrix $\\mathbf{A}$ is inversible if there is a matrix $\\mathbf{B}$ such that:<br>\n",
    "\n",
    "\\begin{equation*}\\mathbf{BA}=\\mathbf{I}=\\mathbf{AB}\\end{equation*}\n",
    "    \n",
    "  if there is such a matrix, it is unique and is called inverse matrix. Notation is: $\\mathbf{A}^{-1}$<br><br>\n",
    "\n",
    "- Let system of linear equations be:<br>\n",
    "    \n",
    "    \\begin{equation*}\\mathbf{Ax}=\\mathbf{b}\\end{equation*}\n",
    "    \n",
    "    <br>\n",
    "    \n",
    "    where $\\mathbf{A}$ is a __square__ and __inversible__ matrix. Then, the solution of the system is given through:<br>\n",
    "  \n",
    "    \\begin{equation*}\\mathbf{x}=\\mathbf{A}^{-1}\\mathbf{b}\\end{equation*}\n",
    "    \n",
    "    "
   ]
  },
  {
   "cell_type": "code",
   "execution_count": null,
   "metadata": {
    "id": "bVRaqA-PWWRN",
    "outputId": "8cd0fada-5e2d-492f-8435-bf9e33481011"
   },
   "outputs": [
    {
     "name": "stdout",
     "output_type": "stream",
     "text": [
      "[2. 3.]\n",
      "[2. 3.]\n"
     ]
    }
   ],
   "source": [
    "# Declare matrices A and b \n",
    "\n",
    "\n",
    "# [Solution 1] Using numpy inverse\n",
    "\n",
    "\n",
    "# [Solution 2] Using numpy solver\n"
   ]
  },
  {
   "cell_type": "markdown",
   "metadata": {
    "id": "79UNEAdDWWRN"
   },
   "source": [
    "**References:**\n",
    "1. Mathematics for Machine Learning, M. P. Deisenroth, A. A. Faisal, C. S. Ong.\n",
    "2. Machine Learning, Lecture 2 (Slides), Y. Panagakis (2020).\n"
   ]
  }
 ],
 "metadata": {
  "colab": {
   "name": "T1 - Linear Algebra lab in Python.ipynb",
   "provenance": []
  },
  "kernelspec": {
   "display_name": "Python 3",
   "language": "python",
   "name": "python3"
  },
  "language_info": {
   "codemirror_mode": {
    "name": "ipython",
    "version": 3
   },
   "file_extension": ".py",
   "mimetype": "text/x-python",
   "name": "python",
   "nbconvert_exporter": "python",
   "pygments_lexer": "ipython3",
   "version": "3.8.6"
  }
 },
 "nbformat": 4,
 "nbformat_minor": 1
}
