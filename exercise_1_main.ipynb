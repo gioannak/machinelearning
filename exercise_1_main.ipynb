{
 "cells": [
  {
   "cell_type": "markdown",
   "metadata": {},
   "source": [
    "# Exercise 1: Linear Regression\n",
    "\n",
    "Instructions: This file contains code that helps you get started on the linear exercise. Ready-to-use functions:\n",
    "\n",
    "     plotData\n",
    "     gradientDescent\n",
    "     computeCost\n",
    "     gradientDescentMulti\n",
    "     computeCostMulti     \n",
    "     normalEqn     \n",
    "     featureNormalize\n",
    "     mapFeature\n",
    "\n",
    "\n",
    "__Variables:__<br>\n",
    "X: refers to the population size in 10,000s<br>y: refers to the profit in $10,000s\n",
    "\n",
    "\n"
   ]
  },
  {
   "cell_type": "code",
   "execution_count": 1,
   "metadata": {},
   "outputs": [],
   "source": [
    "# Import necessary libraries\n",
    "import pandas as pd\n",
    "import numpy as np\n",
    "import matplotlib.pyplot as plt\n",
    "import linear_regression as lr"
   ]
  },
  {
   "cell_type": "markdown",
   "metadata": {},
   "source": [
    "## Part 1: Load & Plot Data  ##"
   ]
  },
  {
   "cell_type": "code",
   "execution_count": 2,
   "metadata": {},
   "outputs": [
    {
     "data": {
      "image/png": "[encoded data removed]",
      "text/plain": [
       "<Figure size 432x288 with 1 Axes>"
      ]
     },
     "metadata": {
      "needs_background": "light"
     },
     "output_type": "display_data"
    }
   ],
   "source": [
    "data = pd.read_csv(\"../data/univariate_linear_regression.txt\") # import data as dataframe\n",
    "\n",
    "temp = data.to_numpy() # convert dataframe to matrix\n",
    "X = temp[:,0] # get features\n",
    "y = temp[:,1] # get output values\n",
    "\n",
    "# Plot Data\n",
    "lr.plotData(X,y)\n",
    "\n",
    "# Plot Date along with Graph title and x-axis name and y-axis name (uncomment next line to execute)\n",
    "# lr.plotData(X,y,title='Annual Income Per Inhabitant',xlabel='City Population in 10.000s',ylabel='Income')"
   ]
  },
  {
   "cell_type": "markdown",
   "metadata": {},
   "source": [
    "## Part 1b: Preprocess Data"
   ]
  },
  {
   "cell_type": "code",
   "execution_count": 3,
   "metadata": {
    "scrolled": true
   },
   "outputs": [
    {
     "name": "stdout",
     "output_type": "stream",
     "text": [
      "(97, 2)\n"
     ]
    }
   ],
   "source": [
    "# insert ones as a first dimension feature (X[0,:]=[[1, 6.1101]]) \n",
    "X = np.column_stack((np.ones((X.shape[0])),X))\n",
    "\n",
    "print(X.shape)"
   ]
  },
  {
   "cell_type": "markdown",
   "metadata": {},
   "source": [
    "## Part 2: Cost Function"
   ]
  },
  {
   "cell_type": "code",
   "execution_count": 4,
   "metadata": {},
   "outputs": [
    {
     "data": {
      "text/plain": [
       "32.072733877455676"
      ]
     },
     "execution_count": 4,
     "metadata": {},
     "output_type": "execute_result"
    }
   ],
   "source": [
    "# initialize theta\n",
    "beta = np.zeros(X.shape[1]) # a vector with a size of the number of features\n",
    "\n",
    "# Compute Cost \n",
    "lr.computeCost(X,y,beta)\n",
    "\n",
    "# Note: You are correct, if the result gives you: 32.072733877455654"
   ]
  },
  {
   "cell_type": "markdown",
   "metadata": {},
   "source": [
    "## Part 3: Gradient Descent"
   ]
  },
  {
   "cell_type": "code",
   "execution_count": 8,
   "metadata": {},
   "outputs": [
    {
     "name": "stdout",
     "output_type": "stream",
     "text": [
      "mpika\n",
      "New theta's computed by Gradient Descent:\n",
      " theta[0]=-3.89578\n",
      " theta[1]= 1.19303\n"
     ]
    }
   ],
   "source": [
    "# Gradient Descent variables\n",
    "iterations = 3000\n",
    "alpha = 0.01 \n",
    "\n",
    "# Compute gradient descent algorithm\n",
    "[beta,J_history,_,_]= lr.gradientDescent(X, y, beta, alpha, iterations)\n",
    "\n",
    "print(\"New beta's computed by Gradient Descent:\\n theta[0]={:.5f}\\n theta[1]= {:.5f}\".format(theta[0],theta[1]))\n"
   ]
  },
  {
   "cell_type": "markdown",
   "metadata": {},
   "source": [
    "## Part 4: Visualize linear regression fit\n"
   ]
  },
  {
   "cell_type": "code",
   "execution_count": 9,
   "metadata": {
    "scrolled": true
   },
   "outputs": [
    {
     "data": {
      "image/png": "[encoded data removed]",
      "text/plain": [
       "<Figure size 432x288 with 1 Axes>"
      ]
     },
     "metadata": {
      "needs_background": "light"
     },
     "output_type": "display_data"
    }
   ],
   "source": [
    "lr.plotData(X,y,title='Average annual Income',xlabel='Population',ylabel='Income',theta=theta)"
   ]
  },
  {
   "cell_type": "markdown",
   "metadata": {},
   "source": [
    "## Part 5: Make predictions"
   ]
  },
  {
   "cell_type": "code",
   "execution_count": 11,
   "metadata": {},
   "outputs": [
    {
     "name": "stdout",
     "output_type": "stream",
     "text": [
      "For a population of 35.000, our model predicts a profit of: $2798.\n"
     ]
    }
   ],
   "source": [
    "# Predict the average annual income for a city of 35.000 inhabitants\n",
    "annual_incomeA = np.matmul([1.0, 3.5],beta)\n",
    "print('For a population of 35.000, our model predicts a profit of: ${:.0f}.'.format(annual_incomeA*10000))"
   ]
  },
  {
   "cell_type": "code",
   "execution_count": 12,
   "metadata": {},
   "outputs": [
    {
     "name": "stdout",
     "output_type": "stream",
     "text": [
      "For a population of 70.000, our model predicts a profit of: $44555.\n"
     ]
    }
   ],
   "source": [
    "# Predict the average annual income for a city of 70.000 inhabitants\n",
    "annual_incomeA = np.matmul([1.0, 7.0],beta)\n",
    "print('For a population of 70.000, our model predicts a profit of: ${:.0f}.'.format(annual_incomeA*10000))"
   ]
  },
  {
   "cell_type": "markdown",
   "metadata": {},
   "source": [
    "## Part 6: Evaluate Linear Regression Model\n",
    "\n",
    "The \"_Scikit-learn: Machine Learning in Python_\" library offers metrics to evaluate the performance of your linear regression model that you have trained. \n",
    "\n",
    "__Calculate the following__\n",
    "- Mean Square Error for the true values and the model predictions (y,y_pred)\n",
    "- R^2 (coefficient of determination) regression score function.\n",
    "\n",
    "__Please refer to the jupyter notebook for further reading:__<br>\n",
    "    \n",
    "    lesson_1_Linear Regression.ipynb\n",
    "    \n",
    "__Tip:__<br>\n",
    "_Browse the functions within the metrics sub-library of Scikit-learn._\n",
    "    "
   ]
  },
  {
   "cell_type": "code",
   "execution_count": null,
   "metadata": {},
   "outputs": [],
   "source": [
    "# mean square error\n",
    "\n",
    "# r^2 score \n",
    "\n"
   ]
  },
  {
   "cell_type": "markdown",
   "metadata": {},
   "source": [
    "## Part 6: Plot the Cost \n",
    "\n"
   ]
  },
  {
   "cell_type": "code",
   "execution_count": null,
   "metadata": {},
   "outputs": [],
   "source": [
    "# Print Cost\n",
    "plt.plot(list(range(0, iterations)),J_history,label='Cost Function')\n",
    "plt.xlabel('epochs')\n",
    "plt.ylabel('cost')\n",
    "plt.legend()\n",
    "plt.show()"
   ]
  },
  {
   "cell_type": "code",
   "execution_count": null,
   "metadata": {},
   "outputs": [],
   "source": [
    "## Plot Cost function Surface and Contours\n",
    "lr.plotCostFunction(X,y)"
   ]
  },
  {
   "cell_type": "markdown",
   "metadata": {},
   "source": [
    "# Exercise 1b - Multivariate Linear Regression\n",
    "\n",
    "Workflow Overview\n",
    "- Load \"../data/multivariate_linear_regression.txt\"\n",
    "- Implement computeCostMulti()\n",
    "- Implement gradientDescendMulti()\n"
   ]
  },
  {
   "cell_type": "markdown",
   "metadata": {},
   "source": [
    "## Part 1: Load data"
   ]
  },
  {
   "cell_type": "code",
   "execution_count": null,
   "metadata": {},
   "outputs": [],
   "source": [
    "# Import Data\n",
    "filename = \"../../data/multivariate_linear_regression.txt\"\n",
    "data = pd.read_csv(filename,header=None) # if yout csv has not a header line use data = pd.read_csv(filename,header=None) instead\n",
    "\n",
    "# Inspect Data\n",
    "data.head()\n",
    "\n",
    "temp = data.to_numpy() # convert dataframe to matrix\n",
    "X = temp[:,:-1] # get features\n",
    "y = temp[:,-1] # get output values\n"
   ]
  },
  {
   "cell_type": "markdown",
   "metadata": {},
   "source": [
    "## Part 1b: Preprocess data"
   ]
  },
  {
   "cell_type": "code",
   "execution_count": null,
   "metadata": {},
   "outputs": [],
   "source": [
    "# insert ones as a first dimension feature (X[0,:]=[[1, 6.1101]]) \n",
    "X = np.column_stack((np.ones((X.shape[0])),X))"
   ]
  },
  {
   "cell_type": "markdown",
   "metadata": {},
   "source": [
    "## Part 2: Cost Function Multivariate"
   ]
  },
  {
   "cell_type": "code",
   "execution_count": null,
   "metadata": {},
   "outputs": [],
   "source": [
    "# initialize theta\n",
    "beta = np.zeros(X.shape[1]) # a vector with a size of the number of features\n",
    "\n",
    "# Compute Cost \n",
    "lr.computeCostMulti(X,y,theta)\n",
    "print beta.shape"
   ]
  },
  {
   "cell_type": "markdown",
   "metadata": {},
   "source": [
    "## Part 3: Gradient Descent Multivariate"
   ]
  },
  {
   "cell_type": "code",
   "execution_count": null,
   "metadata": {},
   "outputs": [],
   "source": [
    "# Gradient Descent variables\n",
    "iterations = 1500\n",
    "alpha = 0.01 \n",
    "\n",
    "# Compute gradient descent algorithm\n",
    "#[beta,J_history]= lr.gradientDescentMulti(X, y, theta, alpha, iterations) ## needs to be written\n",
    "# print \"New theta's computed by Gradient Descent:\\n theta[0]={:.5f}\\n theta[1]= {:.5f}\\n theta[1]= {:.5f}\".format(theta[0],theta[1],theta[2])"
   ]
  },
  {
   "cell_type": "code",
   "execution_count": null,
   "metadata": {},
   "outputs": [],
   "source": [
    "\n",
    "plt.plot(X[:,0], y_pred, color='blue', linewidth=2,label='cost J')\n",
    "#plt.legend()\n",
    "#plt.xlabel(\"City's Population in 10.000's\")\n",
    "#plt.ylabel(\"Average Annual Income in 10.000's\")\n",
    "# plt.yticks(())\n",
    "plt.show()\n"
   ]
  }
 ],
 "metadata": {
  "kernelspec": {
   "display_name": "Python 3",
   "language": "python",
   "name": "python3"
  },
  "language_info": {
   "codemirror_mode": {
    "name": "ipython",
    "version": 3
   },
   "file_extension": ".py",
   "mimetype": "text/x-python",
   "name": "python",
   "nbconvert_exporter": "python",
   "pygments_lexer": "ipython3",
   "version": "3.8.6"
  }
 },
 "nbformat": 4,
 "nbformat_minor": 2
}
