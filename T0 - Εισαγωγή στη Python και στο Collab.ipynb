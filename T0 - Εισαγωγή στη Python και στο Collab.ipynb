{
 "cells": [
  {
   "cell_type": "markdown",
   "metadata": {},
   "source": [
    "## Introduction to Python and Google Colab\n",
    "\n",
    "\n",
    "### - Python\n",
    "\n",
    "There are multiple ways to write code and perform your experiments.\n",
    "\n",
    "__Option 1__: Stand-alone python scripts. Let your python file be \"myfirstscript.py\", then you can run it simply openning a terminal and running: \n",
    "        \n",
    "    python myfirstscript.py\n",
    "    \n",
    "__Option 2__: Using iPython interactive shell. Here an environment is opened for you where you the variables of your script you want to execute are resident and you can interact with them. Initially, you open an iPython shell from a terminal:\n",
    "    \n",
    "    iPython\n",
    "    \n",
    "Then, let us say \"myfirstscript.py\" has a variable named $x$ you can examine your results, simply by running:\n",
    "\n",
    "    run myfirstscript.py\n",
    "    print(x)\n",
    "\n",
    "__Option 3__: Using Jupyter Notebook. This is a browser based manner to interact with the _iPython_ shell. You have to start the Jupyter server by executing the following in a terminal and follow the instructions.. \n",
    "    \n",
    "    jupyter notebook\n",
    "    \n",
    "### - Working on Google Colab\n",
    "  Google Colab offers an environment for everyone who intends to try out his Machine Learning projects. \n",
    "\n",
    "__Option 1__: Type the following link within your browser:\n",
    "\n",
    "    colab.research.google.com\n",
    "\n",
    "Then, upload the desired jupyter notebook:\n",
    "\n",
    "    lab0_warmup.ipynb\n",
    "\n",
    "Ready to go!\n"
   ]
  },
  {
   "cell_type": "markdown",
   "metadata": {},
   "source": [
    "## Numpy (https://numpy.org/)\n",
    "\n",
    "The library to perform math operations."
   ]
  },
  {
   "cell_type": "code",
   "execution_count": 2,
   "metadata": {},
   "outputs": [],
   "source": [
    "# Import Numpy library\n",
    "import numpy as np"
   ]
  },
  {
   "cell_type": "markdown",
   "metadata": {},
   "source": [
    "#### Indexing\n",
    "\n",
    "Python begins indexing at 0 (not 1), therefore the first row and first column is referenced by 0,0 not 1,1.\n",
    "\n",
    "#### Slicing\n",
    "\n",
    "Accessing elements of numpy matrices and arrays. \n",
    "\n",
    "Let: <br>\n",
    "<p style=\"text-align: center\">\n",
    "$\\mathbf{A} = \\begin{bmatrix}0 & 1 \\\\ 2&3\\end{bmatrix}$ \n",
    "</p>\n",
    "Then,<br>\n",
    "\n",
    "<p style=\"text-align: center\">\n",
    "    $\\mathbf{A}[:,0]=\\begin{bmatrix}0 \\\\ 2 \\end{bmatrix} \\rightarrow$ grabs the first <b>column</b> of matrix $\\mathbf{A}$    \n",
    "</p>\n",
    "while <br>\n",
    "<p style=\"text-align: center\">\n",
    "    $\\mathbf{A}[0,:]=\\begin{bmatrix}0 \\\\ 2 \\end{bmatrix} \\rightarrow$ grabs the first <b>row</b> of matrix $\\mathbf{A}$    \n",
    "</p>"
   ]
  },
  {
   "cell_type": "code",
   "execution_count": 8,
   "metadata": {},
   "outputs": [
    {
     "name": "stdout",
     "output_type": "stream",
     "text": [
      "[[0 1]\n",
      " [2 3]]\n"
     ]
    }
   ],
   "source": [
    "# define matrix A\n",
    "A = np.array([[0,1],[2,3]]) # or alternativelly A=np.arange(4).reshape((2,2))\n",
    "print(A)"
   ]
  },
  {
   "cell_type": "code",
   "execution_count": 9,
   "metadata": {},
   "outputs": [
    {
     "name": "stdout",
     "output_type": "stream",
     "text": [
      "(2, 2)\n"
     ]
    }
   ],
   "source": [
    "# get dimensions of A\n",
    "dim = A.shape\n",
    "print(dim)"
   ]
  },
  {
   "cell_type": "code",
   "execution_count": 18,
   "metadata": {},
   "outputs": [
    {
     "name": "stdout",
     "output_type": "stream",
     "text": [
      "3\n"
     ]
    }
   ],
   "source": [
    "# get the second element of second row\n",
    "a = A[1,1]\n",
    "print(a)"
   ]
  },
  {
   "cell_type": "code",
   "execution_count": 11,
   "metadata": {},
   "outputs": [
    {
     "name": "stdout",
     "output_type": "stream",
     "text": [
      "[2 3]\n"
     ]
    }
   ],
   "source": [
    "# get second row of A\n",
    "C = A[1,:]\n",
    "print(C)"
   ]
  },
  {
   "cell_type": "code",
   "execution_count": 13,
   "metadata": {},
   "outputs": [
    {
     "name": "stdout",
     "output_type": "stream",
     "text": [
      "[0 2]\n"
     ]
    }
   ],
   "source": [
    "# get first column of A\n",
    "C = A[:,0]\n",
    "print(C)"
   ]
  },
  {
   "cell_type": "markdown",
   "metadata": {},
   "source": [
    "#### - Logical Checks to extract values from matrices/arrays"
   ]
  },
  {
   "cell_type": "code",
   "execution_count": 14,
   "metadata": {},
   "outputs": [
    {
     "name": "stdout",
     "output_type": "stream",
     "text": [
      "[[0 1]\n",
      " [2 3]]\n"
     ]
    }
   ],
   "source": [
    "print(A)"
   ]
  },
  {
   "cell_type": "code",
   "execution_count": 17,
   "metadata": {},
   "outputs": [
    {
     "name": "stdout",
     "output_type": "stream",
     "text": [
      "[2 3]\n"
     ]
    }
   ],
   "source": [
    "# Extract values from A that are bigger than 1 (>1)\n",
    "C = A[A>1]\n",
    "print(C)"
   ]
  },
  {
   "cell_type": "markdown",
   "metadata": {},
   "source": [
    "#### - For loops\n",
    "Create a $5x5$ matrix \n",
    "\n",
    "<p style=\"text-align:center\">\n",
    "    $\\mathbf{A}=\\begin{bmatrix}0 & 1 & 2 & 3 & 4 \\\\ 5 & 6 & 7 & 8 & 9 \\\\ 10 & 11 & 12 & 13 & 14 \\\\ 15 & 16 & 17 & 18 & 19 \\\\ 20 & 21 & 22 & 23 & 24\\end{bmatrix}$</p>\n",
    "    \n",
    "Now extract one row at a time and print it out:\n",
    "<p style=\"text-align:center\">\n",
    "    $\\mathbf{A}[0,:]=\\begin{bmatrix}0 & 1 & 2 & 3 & 4 \\end{bmatrix}$<br> $\\vdots$<br>\n",
    "    $\\mathbf{A}[4,:]=\\begin{bmatrix}20 & 21 & 22 & 23 & 24 \\end{bmatrix}$\n",
    "</p>\n"
   ]
  },
  {
   "cell_type": "code",
   "execution_count": 22,
   "metadata": {},
   "outputs": [
    {
     "name": "stdout",
     "output_type": "stream",
     "text": [
      "[[ 0  1  2  3  4]\n",
      " [ 5  6  7  8  9]\n",
      " [10 11 12 13 14]\n",
      " [15 16 17 18 19]\n",
      " [20 21 22 23 24]]\n"
     ]
    }
   ],
   "source": [
    "# Define Matrix A\n",
    "A = np.arange(25).reshape((5,5))\n",
    "print(A)"
   ]
  },
  {
   "cell_type": "code",
   "execution_count": 31,
   "metadata": {},
   "outputs": [
    {
     "name": "stdout",
     "output_type": "stream",
     "text": [
      "A[ 0 ,:]= [0 1 2 3 4]\n",
      "A[ 1 ,:]= [5 6 7 8 9]\n",
      "A[ 2 ,:]= [10 11 12 13 14]\n",
      "A[ 3 ,:]= [15 16 17 18 19]\n",
      "A[ 4 ,:]= [20 21 22 23 24]\n",
      "-------------------\n",
      "A[ 0 ,:]= [0 1 2 3 4]\n",
      "A[ 1 ,:]= [5 6 7 8 9]\n",
      "A[ 2 ,:]= [10 11 12 13 14]\n",
      "A[ 3 ,:]= [15 16 17 18 19]\n",
      "A[ 4 ,:]= [20 21 22 23 24]\n"
     ]
    }
   ],
   "source": [
    "# extract each row of A and print it out along with its index\n",
    "row_counter = 0\n",
    "for row in A:    \n",
    "    print('A[',row_counter,',:]=',row)\n",
    "    row_counter=row_counter + 1\n",
    "\n",
    "print('-------------------')\n",
    "\n",
    "# or alternatively\n",
    "for row_counter2,row in enumerate(A):\n",
    "    print('A[',row_counter2,',:]=',row)"
   ]
  },
  {
   "cell_type": "markdown",
   "metadata": {},
   "source": [
    "#### - If/then/else\n",
    "The code below checks the value of x and categorizes it into one of three values. Like the for loop, each logical if check is ended with a colon, and any commands to be applied to that particular if check (if true) must be indented."
   ]
  },
  {
   "cell_type": "code",
   "execution_count": 29,
   "metadata": {},
   "outputs": [
    {
     "name": "stdout",
     "output_type": "stream",
     "text": [
      "Heads\n"
     ]
    }
   ],
   "source": [
    "x=.4\n",
    "if x<0.5:\n",
    "    print(\"Heads\")\n",
    "elif x>0.5:\n",
    "    print(\"Tails\")\n",
    "else:\n",
    "    print(\"Tie\")\n"
   ]
  },
  {
   "cell_type": "markdown",
   "metadata": {},
   "source": [
    "#### - While loops\n",
    "Again, we have the same basic form for the statement (note the colons and indents). Here we use the shorthand notation $x+=1$ for performing the calculation $x = x + 1$:"
   ]
  },
  {
   "cell_type": "code",
   "execution_count": 30,
   "metadata": {},
   "outputs": [
    {
     "name": "stdout",
     "output_type": "stream",
     "text": [
      "1\n",
      "2\n",
      "3\n",
      "4\n",
      "5\n",
      "6\n",
      "7\n",
      "8\n",
      "9\n",
      "10\n"
     ]
    }
   ],
   "source": [
    "# Add ones (1) for ten times using while\n",
    "x=0\n",
    "while x<10:\n",
    "    x+=1\n",
    "    print(x)"
   ]
  },
  {
   "cell_type": "code",
   "execution_count": 32,
   "metadata": {},
   "outputs": [
    {
     "name": "stdout",
     "output_type": "stream",
     "text": [
      "True\n",
      "True\n",
      "True\n",
      "True\n",
      "True\n",
      "True\n",
      "True\n",
      "True\n",
      "True\n",
      "False\n",
      "10\n"
     ]
    }
   ],
   "source": [
    "# now do the same and check if x < 10\n",
    "x=0 \n",
    "while x<10:\n",
    "    x+=1\n",
    "    print(x<10)\n",
    "\n",
    "# now print out the x value\n",
    "print(x)"
   ]
  }
 ],
 "metadata": {
  "kernelspec": {
   "display_name": "Python 3",
   "language": "python",
   "name": "python3"
  },
  "language_info": {
   "codemirror_mode": {
    "name": "ipython",
    "version": 3
   },
   "file_extension": ".py",
   "mimetype": "text/x-python",
   "name": "python",
   "nbconvert_exporter": "python",
   "pygments_lexer": "ipython3",
   "version": "3.8.6"
  }
 },
 "nbformat": 4,
 "nbformat_minor": 4
}
