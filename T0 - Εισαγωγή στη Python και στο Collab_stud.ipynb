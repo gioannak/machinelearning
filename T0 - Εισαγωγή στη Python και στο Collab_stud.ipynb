{
 "cells": [
  {
   "cell_type": "markdown",
   "metadata": {},
   "source": [
    "## Introduction to Python and Google Colab\n",
    "\n",
    "\n",
    "### - Python\n",
    "\n",
    "There are multiple ways to write code and perform your experiments.\n",
    "\n",
    "__Option 1__: Stand-alone python scripts. Let your python file be \"myfirstscript.py\", then you can run it simply openning a terminal and running: \n",
    "        \n",
    "    python myfirstscript.py\n",
    "    \n",
    "__Option 2__: Using iPython interactive shell. Here an environment is opened for you where you the variables of your script you want to execute are resident and you can interact with them. Initially, you open an iPython shell from a terminal:\n",
    "    \n",
    "    iPython\n",
    "    \n",
    "Then, let us say \"myfirstscript.py\" has a variable named $x$ you can examine your results, simply by running:\n",
    "\n",
    "    run myfirstscript.py\n",
    "    print(x)\n",
    "\n",
    "__Option 3__: Using Jupyter Notebook. This is a browser based manner to interact with the _iPython_ shell. You have to start the Jupyter server by executing the following in a terminal and follow the instructions.. \n",
    "    \n",
    "    jupyter notebook\n",
    "    \n",
    "### - Working on Google Colab\n",
    "  Google Colab offers an environment for everyone who intends to try out his Machine Learning projects. \n",
    "\n",
    "__Option 1__: Type the following link within your browser:\n",
    "\n",
    "    colab.research.google.com\n",
    "\n",
    "Then, upload the desired jupyter notebook:\n",
    "\n",
    "    lab0_warmup.ipynb\n",
    "\n",
    "Ready to go!\n"
   ]
  },
  {
   "cell_type": "markdown",
   "metadata": {},
   "source": [
    "## Numpy (https://numpy.org/)\n",
    "\n",
    "The library to perform math operations."
   ]
  },
  {
   "cell_type": "code",
   "execution_count": 2,
   "metadata": {},
   "outputs": [],
   "source": [
    "# Import Numpy library\n"
   ]
  },
  {
   "cell_type": "markdown",
   "metadata": {},
   "source": [
    "#### Indexing\n",
    "\n",
    "Python begins indexing at 0 (not 1), therefore the first row and first column is referenced by 0,0 not 1,1.\n",
    "\n",
    "#### Slicing\n",
    "\n",
    "Accessing elements of numpy matrices and arrays. \n",
    "\n",
    "Let: <br>\n",
    "<p style=\"text-align: center\">\n",
    "$\\mathbf{A} = \\begin{bmatrix}0 & 1 \\\\ 2&3\\end{bmatrix}$ \n",
    "</p>\n",
    "Then,<br>\n",
    "\n",
    "<p style=\"text-align: center\">\n",
    "    $\\mathbf{A}[:,0]=\\begin{bmatrix}0 \\\\ 2 \\end{bmatrix} \\rightarrow$ grabs the first <b>column</b> of matrix $\\mathbf{A}$    \n",
    "</p>\n",
    "while <br>\n",
    "<p style=\"text-align: center\">\n",
    "    $\\mathbf{A}[0,:]=\\begin{bmatrix}0 \\\\ 2 \\end{bmatrix} \\rightarrow$ grabs the first <b>row</b> of matrix $\\mathbf{A}$    \n",
    "</p>"
   ]
  },
  {
   "cell_type": "code",
   "execution_count": 1,
   "metadata": {},
   "outputs": [],
   "source": [
    "# define matrix A\n"
   ]
  },
  {
   "cell_type": "code",
   "execution_count": 2,
   "metadata": {},
   "outputs": [],
   "source": [
    "# get dimensions of A\n"
   ]
  },
  {
   "cell_type": "code",
   "execution_count": 3,
   "metadata": {},
   "outputs": [],
   "source": [
    "# get the second element of second row\n"
   ]
  },
  {
   "cell_type": "code",
   "execution_count": 4,
   "metadata": {},
   "outputs": [],
   "source": [
    "# get second row of A\n"
   ]
  },
  {
   "cell_type": "code",
   "execution_count": 5,
   "metadata": {},
   "outputs": [],
   "source": [
    "# get first column of A\n"
   ]
  },
  {
   "cell_type": "markdown",
   "metadata": {},
   "source": [
    "#### - Logical Checks to extract values from matrices/arrays"
   ]
  },
  {
   "cell_type": "code",
   "execution_count": 6,
   "metadata": {},
   "outputs": [],
   "source": [
    "# Extract values from A that are bigger than 1 (>1)\n"
   ]
  },
  {
   "cell_type": "markdown",
   "metadata": {},
   "source": [
    "#### - For loops\n",
    "Create a $5x5$ matrix \n",
    "\n",
    "<p style=\"text-align:center\">\n",
    "    $\\mathbf{A}=\\begin{bmatrix}0 & 1 & 2 & 3 & 4 \\\\ 5 & 6 & 7 & 8 & 9 \\\\ 10 & 11 & 12 & 13 & 14 \\\\ 15 & 16 & 17 & 18 & 19 \\\\ 20 & 21 & 22 & 23 & 24\\end{bmatrix}$</p>\n",
    "    \n",
    "Now extract one row at a time and print it out:\n",
    "<p style=\"text-align:center\">\n",
    "    $\\mathbf{A}[0,:]=\\begin{bmatrix}0 & 1 & 2 & 3 & 4 \\end{bmatrix}$<br> $\\vdots$<br>\n",
    "    $\\mathbf{A}[4,:]=\\begin{bmatrix}20 & 21 & 22 & 23 & 24 \\end{bmatrix}$\n",
    "</p>\n"
   ]
  },
  {
   "cell_type": "code",
   "execution_count": 7,
   "metadata": {},
   "outputs": [],
   "source": [
    "# Define Matrix A\n"
   ]
  },
  {
   "cell_type": "code",
   "execution_count": 8,
   "metadata": {},
   "outputs": [],
   "source": [
    "# extract each row of A and print it out along with its index\n"
   ]
  },
  {
   "cell_type": "markdown",
   "metadata": {},
   "source": [
    "#### - If/then/else\n",
    "The code below checks the value of x and categorizes it into one of three values. Like the for loop, each logical if check is ended with a colon, and any commands to be applied to that particular if check (if true) must be indented."
   ]
  },
  {
   "cell_type": "code",
   "execution_count": null,
   "metadata": {},
   "outputs": [],
   "source": []
  },
  {
   "cell_type": "markdown",
   "metadata": {},
   "source": [
    "#### - While loops\n",
    "Again, we have the same basic form for the statement (note the colons and indents). Here we use the shorthand notation $x+=1$ for performing the calculation $x = x + 1$:"
   ]
  },
  {
   "cell_type": "code",
   "execution_count": 10,
   "metadata": {},
   "outputs": [],
   "source": [
    "# Add ones (1) for ten times using while\n"
   ]
  },
  {
   "cell_type": "code",
   "execution_count": 11,
   "metadata": {},
   "outputs": [],
   "source": [
    "# now do the same and check if x < 10\n"
   ]
  }
 ],
 "metadata": {
  "kernelspec": {
   "display_name": "Python 3",
   "language": "python",
   "name": "python3"
  },
  "language_info": {
   "codemirror_mode": {
    "name": "ipython",
    "version": 3
   },
   "file_extension": ".py",
   "mimetype": "text/x-python",
   "name": "python",
   "nbconvert_exporter": "python",
   "pygments_lexer": "ipython3",
   "version": "3.8.6"
  }
 },
 "nbformat": 4,
 "nbformat_minor": 4
}
