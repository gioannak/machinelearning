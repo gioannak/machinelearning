{
 "cells": [
  {
   "cell_type": "markdown",
   "metadata": {
    "id": "pVFX8amaD0Ed"
   },
   "source": [
    "# Linear Regression (Γραμμική Παλινδρόμηση)\n",
    "\n",
    "###  Outline\n",
    "- Univariate linear regression\n",
    "- Hypothesis Function/Cost Function\n",
    "- Gradient Descent\n",
    "- Multivariate Linear Regression\n",
    "- Gradient Descent (Multivariate implementation)\n",
    "- Analytical solution\n",
    "\n",
    "\n",
    "In **supervised learning**, we are given a data set and already know what our correct output should look like, having the idea that there is a relationship between the input and the output.\n",
    "\n",
    "\n",
    "Supervised learning problems are categorized into **regression** and **classification** problems. \n",
    "\n",
    "- In a _regression_ problem, we are trying to predict results within a continuous output, meaning that we are trying to map input variables to some _continuous function_. \n",
    "- In a _classification_ problem, we are instead trying to predict results in a discrete output. In other words, we are trying to map input variables into _discrete categories_.\n",
    "\n"
   ]
  },
  {
   "cell_type": "markdown",
   "metadata": {
    "id": "R3ZzPAi0D0Ef"
   },
   "source": [
    "# Linear Regression\n",
    "\n",
    "__Linear regression__ is a _supervised learning_ algorithm. Regression predicts continuous value outputs. Linear regression performs the task of predicting a \"dependent\" variable ($y$) value based on a given \"independent\" variable ($x$). Regression algorithms predict a real-valued output.\n",
    "\n",
    "\n",
    "\\begin{equation}\n",
    " \\mathbf{X} = \\begin{bmatrix}\n",
    " x_1^1 & x_2^1 & \\dots & x_n^1\\\\\n",
    " x_1^2 & x_2^2 & \\dots & x_n^2\\\\\n",
    " \\vdots &  & \\ddots & \\vdots\\\\\n",
    " x_1^m & x_2^m & \\dots & x_n^m\\\\\n",
    " \\end{bmatrix}\n",
    " \\quad and \\quad\n",
    " \\mathbf{y} = \\begin{bmatrix}\n",
    " y^1\\\\\n",
    " y^2\\\\\n",
    " \\vdots\\\\\n",
    " y^m\n",
    " \\end{bmatrix}\n",
    "\\end{equation}\n",
    "\n",
    "\n",
    "- The independent variable $\\mathbf{X}$ is an $m\\times n$ matrix, where each $i^{th}$_row_ corresponds to the $i^{th}$ sample and $j^{th}$_column_ corresponds to the $j^{th}$ feature (e.g. area of a house).\n",
    "- The dependent variable $\\mathbf{y}$ is an $m$-_sized_ vector, where $i^{th}$ _element_ corresponds to the <u>prediction</u> of the $i^{th}$ _sample_ (e.g. the house price).\n",
    "\n",
    "For example, if we want to inspect 1<sup>st</sup> training sample $\\mathbf{x}^1$, then $\\mathbf{x}^1=[x_1^1, x_2^1,\\dots,x_n^1]$ and its correspondent $y^1$.\n",
    "\n",
    "\n"
   ]
  },
  {
   "cell_type": "markdown",
   "metadata": {
    "id": "5IVTxtWOD0Ef"
   },
   "source": [
    "## 1. Univariate linear regression\n",
    "\n",
    "In the simple _univariate case_ the independent variable $\\mathbf{x}$ has only one feature per sample. However, the workflow is the same for more complex cases, where each sample is described with multiple features.\n",
    "\n",
    "### Model Presentation\n",
    "\n",
    "<img src=\"https://drive.google.com/uc?id=18N2wk9tByrVKlakI8Rq2PAHceZInSw-P\" alt=\"linear regression workflow\" />\n",
    "\n",
    "<br>\n",
    "\n",
    "__A. Hypothesis function presentation__\n",
    "\n",
    "In the simple _univariate case_, the hypothesis function $h$ is a function that maps from $x$'s to $y$'s. The equation is given below:\n",
    "\n",
    "\\begin{equation}\n",
    "h_\\beta(x)= \\beta_0 + \\beta_1x_1,\n",
    "\\end{equation}\n",
    "where $\\beta_{0,1}$ are the learned parameters (aka weights). Moreover, $\\beta_0$ is called the __bias__ term.\n",
    "\n",
    "In order to write the hypothesis with matrices, it is necessary to add an additional column to the beginning of $\\mathbf{X}$. So it becomes as follows: \n",
    "\n",
    "\\begin{equation}\n",
    " \\mathbf{X} = \\begin{bmatrix}\n",
    " 1 & x_1^1 \\\\\n",
    " 1 & x_1^2 \\\\\n",
    " \\vdots & \\vdots\\\\\n",
    " 1 & x_1^m \\\\\n",
    " \\end{bmatrix}\n",
    " \\qquad and \\qquad\n",
    " \\mathbf{\\beta}= \\begin{bmatrix}\n",
    " \\beta_0 \\\\ \\beta_1 \n",
    " \\end{bmatrix}\n",
    "\\end{equation}\n",
    "\n",
    "And the hypothesis function can be written as follows:\n",
    "\n",
    "\\begin{equation}\n",
    "h_\\beta(\\mathbf{X})= \\mathbf{X}\\: \\mathbf{B}\n",
    "\\end{equation}\n",
    "\n",
    "The expected visualization of the hypothesis function line will be as shown in the figure below:\n",
    "\n",
    "<img src=\"https://drive.google.com/uc?id=1HUhi7we_h5LNQknujNOtS8uv7xukm0mL\" alt=\"hypothesis function\" width=\"400\"/>\n",
    "\n",
    "__B. Cost Function__\n",
    "\n",
    "We can measure the accuracy of our hypothesis function by using a cost function. This takes an average (actually a fancier version of an average) of all the results of the hypothesis with inputs from $\\mathbf{x}^i$ compared to the actual output $\\mathbf{y}^i$.\n",
    "\n",
    "To define the optimum parameters $\\beta_0$ and $\\beta_1$, it is necessary to use a metric as to quantify how well our hypothesis function fits the data; the _cost function_.  The equation is given below:\n",
    "\n",
    "$$J(\\beta_0,\\beta_1)=\\frac{1}{2m}\\sum_{i=1}^{m}(h_\\beta (\\mathbf{x}^i)-\\mathbf{y}^i)^2$$\n",
    "\n",
    "This function is called the _Squared Error Function_ or _Mean Squared Error_. The squared error cost functions work well with regression problems.\n",
    "<br><br>\n",
    "<img src=\"https://drive.google.com/uc?id=1UAnCwh98aqwlepTUGnQz_v5BzxpRojWK\" alt=\"Cost Function\" width=\"800\" align=\"center\">\n",
    "<br><br>\n",
    "\n",
    "\n",
    "- _Idea_: Choose $\\beta_0$ and $\\beta_1$ so that $h_\\beta (x)$ is close to $y$ for our training examples ($x$,$y$).\n",
    "- _Goal_: is to determine the values for $\\beta_0$ and $\\beta_1$ that lead to the minimum value of $J(\\beta_0,\\beta_1)$.\n",
    "\n",
    "__C. Gradient Descent__\n",
    "\n",
    "__Workflow:__<br>\n",
    "- Start with random values for $\\beta_0$ and $\\beta_1$\n",
    "- Keep changing $\\beta_0$ and $\\beta_1$ to reduce $J(\\beta_0,\\beta_1)$, until convergence.\n",
    "<br>\n",
    "\n",
    "The way to minimize the cost is by taking the derivative (the line tangent to a function) of our cost function. The slope of the tangent is the derivative at that point and it will give us a direction to move towards. We make steps down that derivative by the parameter $\\alpha$, called the learning rate.\n",
    "\n",
    "Iterate until convergence the following equation:\n",
    "\n",
    "\\begin{equation}\n",
    "\\large \\beta_j := \\beta_j - \\alpha \\frac{\\partial}{\\partial{\\beta_j}}J(\\beta_0,\\beta_1), \n",
    "\\end{equation}\n",
    "\n",
    "in our case for $j=0$ and $j=1$ and $\\alpha$: learning rate.\n",
    "\n",
    "NOTE:  The bigger the value the bigger the steps. \n",
    "\n",
    "_Learning Rate $\\alpha$:_\n",
    "- If the learning rate is too big, convergence may not occur. \n",
    "- On the other hand if the learning rate is too _small_ it will take too many iterations to reach the minimum cost.\n",
    "\n",
    "<table><tr>\n",
    "<td> <img src=\"https://drive.google.com/uc?id=1b2N6FDiZRYyJ12PVahaUWS_XecAox3te\" alt=\"Cost Function\" height=\"250px\" > </td>\n",
    "<td> <img src=\"https://drive.google.com/uc?id=1Jttr8uKCFfcZ5OObfKC4uPkEqlDvG9qb\" alt=\"Cost Function2\" height=\"250px\" >  </td>\n",
    "</tr></table>\n",
    "\n",
    "\n",
    "__Partial derivatives of cost fuction with respect to $\\mathbf{\\Theta}$__\n",
    "\n",
    "\\begin{equation*}\n",
    "\\frac{\\partial}{\\partial (\\beta_0,\\beta_1)}J(\\beta_0,\\beta_1)=\\frac{\\partial}{\\partial \\beta_j} \\frac{1}{2m}\\sum_{i=0}^{m-1}(h_\\beta(x^i)-y^i)^2= \\frac{\\partial}{\\partial \\beta_j}\\frac{1}{2m}\\sum_{i=0}^{m-1}(\\beta_0+\\beta_1 x^i-y^i)^2\n",
    "\\end{equation*}\n",
    "<br>\n",
    "$\\beta_0: \\frac{\\partial}{\\partial \\beta_0}J(\\beta_0,\\theta_1)= \\frac{1}{m}\\sum_{i=1}^{m}(h_\\beta(x^i)-y^i)$\n",
    "\n",
    "$\\beta_1: \\frac{\\partial}{\\partial \\beta_1}J(\\beta_0,\\theta_1)= \\frac{1}{m}\\sum_{i=1}^{m}(h_\\beta(x^i)-y^i)x^i$\n",
    "<br><br><br>\n",
    "\n",
    "\n",
    "__DEFINITIONS:__<br>\n",
    "__Batch__: In each iteration of gradient descent algorithm <u>all</u> training samples are used.<br>\n",
    "__Epoch__: In each epoch of a supervised learning algorithm <u>all</u> training samples have to be used."
   ]
  },
  {
   "cell_type": "markdown",
   "metadata": {
    "id": "oMgdvB9iD0Eh"
   },
   "source": [
    "## Exercise: Annual income per city inhabitant according to the population estimation. \n",
    "\n",
    "In this case we have linear regression with _one_ variable (_univariate linear regression_), that is the city population. To perform linear regression to define the annual income estimation model, we are going to exploit the Housing Prices (Portland, OR) dataset. \n",
    "\n",
    "| A/A | Area in feet^2 (x) | Price ($)*1000's (y) |\n",
    "| :------ | :-------: | :------- | \n",
    "| 0 | 2104 | 460 |\n",
    "| 1 | 1416 | 232 |\n",
    "| 2 | 1534 | 315 |\n",
    "| 3 | 852 | 178 |\n",
    "\n",
    "Notation:\n",
    "- **m** = number of training samples\n",
    "- **x** = \"input\" variable/features\n",
    "- **y** = \"output\" variable/ \"target\" variable \n",
    "\n",
    "Example:\n",
    "\n",
    "(x,y) is a training sample.\n",
    "\n",
    "$(x^n,y^n)$ is the $n^{th}$ sample from the training set."
   ]
  },
  {
   "cell_type": "code",
   "execution_count": null,
   "metadata": {
    "id": "H3vyqmfBD0Ei"
   },
   "outputs": [],
   "source": [
    "# solely to align plots to center\n",
    "from IPython.core.display import HTML\n",
    "\n",
    "HTML(\"\"\"\n",
    "<style>\n",
    ".output_png {\n",
    "    display: table-cell;\n",
    "    text-align: center;\n",
    "    vertical-align: middle;\n",
    "}\n",
    "</style>\n",
    "\"\"\")"
   ]
  },
  {
   "cell_type": "markdown",
   "metadata": {
    "id": "W2sOiplVD0Ez"
   },
   "source": [
    "##  Univariate Linear Regression Using Scikit-learn"
   ]
  },
  {
   "cell_type": "code",
   "execution_count": 2,
   "metadata": {
    "id": "aHdkv3ZTD0En"
   },
   "outputs": [],
   "source": [
    "# Import libraries\n",
    "import numpy as np\n",
    "import matplotlib.pyplot as plt\n",
    "import pandas as pd\n",
    "from sklearn import datasets, linear_model, metrics\n",
    "import seaborn as sns"
   ]
  },
  {
   "cell_type": "code",
   "execution_count": 3,
   "metadata": {
    "id": "7-2R5VffD0Eq"
   },
   "outputs": [],
   "source": [
    "# Import Data\n",
    "filename = \"./data/univariate_linear_regression.txt\"\n",
    "data = pd.read_csv(filename) # if yout csv has not a header line use data = pd.read_csv(filename,header=None) instead, \n",
    "# or use data =np.loadtxt(filename, delimiter=',')\n",
    "\n",
    "# Inspect Data\n",
    "data.head()\n",
    "\n",
    "# Assign features to x and income values to y\n",
    "temp = data.to_numpy()\n",
    "X = temp[:,0] # get features\n",
    "y = temp[:,1] # get output values\n",
    "\n",
    "X = np.reshape(X, (-1, 1))\n",
    "#X = np.column_stack((np.ones((X.shape[0])),X))\n"
   ]
  },
  {
   "cell_type": "code",
   "execution_count": 4,
   "metadata": {},
   "outputs": [
    {
     "data": {
      "text/html": [
       "<div>\n",
       "<style scoped>\n",
       "    .dataframe tbody tr th:only-of-type {\n",
       "        vertical-align: middle;\n",
       "    }\n",
       "\n",
       "    .dataframe tbody tr th {\n",
       "        vertical-align: top;\n",
       "    }\n",
       "\n",
       "    .dataframe thead th {\n",
       "        text-align: right;\n",
       "    }\n",
       "</style>\n",
       "<table border=\"1\" class=\"dataframe\">\n",
       "  <thead>\n",
       "    <tr style=\"text-align: right;\">\n",
       "      <th></th>\n",
       "      <th>Population</th>\n",
       "      <th>Profit</th>\n",
       "    </tr>\n",
       "  </thead>\n",
       "  <tbody>\n",
       "    <tr>\n",
       "      <th>0</th>\n",
       "      <td>6.1101</td>\n",
       "      <td>17.5920</td>\n",
       "    </tr>\n",
       "    <tr>\n",
       "      <th>1</th>\n",
       "      <td>5.5277</td>\n",
       "      <td>9.1302</td>\n",
       "    </tr>\n",
       "    <tr>\n",
       "      <th>2</th>\n",
       "      <td>8.5186</td>\n",
       "      <td>13.6620</td>\n",
       "    </tr>\n",
       "    <tr>\n",
       "      <th>3</th>\n",
       "      <td>7.0032</td>\n",
       "      <td>11.8540</td>\n",
       "    </tr>\n",
       "    <tr>\n",
       "      <th>4</th>\n",
       "      <td>5.8598</td>\n",
       "      <td>6.8233</td>\n",
       "    </tr>\n",
       "  </tbody>\n",
       "</table>\n",
       "</div>"
      ],
      "text/plain": [
       "   Population   Profit\n",
       "0      6.1101  17.5920\n",
       "1      5.5277   9.1302\n",
       "2      8.5186  13.6620\n",
       "3      7.0032  11.8540\n",
       "4      5.8598   6.8233"
      ]
     },
     "execution_count": 4,
     "metadata": {},
     "output_type": "execute_result"
    }
   ],
   "source": [
    "data.head()"
   ]
  },
  {
   "cell_type": "code",
   "execution_count": 5,
   "metadata": {
    "colab": {
     "base_uri": "https://localhost:8080/",
     "height": 295
    },
    "executionInfo": {
     "elapsed": 1068,
     "status": "ok",
     "timestamp": 1604470360089,
     "user": {
      "displayName": "Jorgos Ioannakis",
      "photoUrl": "https://lh3.googleusercontent.com/a-/AOh14GiGRnuMp4jeJHSI1TWMtYkNeWwXB_1fc02B3ENkLg=s64",
      "userId": "16599971825039495934"
     },
     "user_tz": -120
    },
    "id": "-H7KCUnqD0Et",
    "outputId": "7051a3d6-3c25-407f-d25f-75f10ce5234e"
   },
   "outputs": [
    {
     "data": {
      "image/png": "[encoded data removed]",
      "text/plain": [
       "<Figure size 432x288 with 1 Axes>"
      ]
     },
     "metadata": {
      "needs_background": "light"
     },
     "output_type": "display_data"
    }
   ],
   "source": [
    "# Plot Data\n",
    "data.plot(kind='scatter',\n",
    "          x=\"Population\",\n",
    "          y=\"Profit\",\n",
    "          color='red', \n",
    "          title=\"Profit per inhabitant accordig to the city's population\")\n",
    "plt.show()"
   ]
  },
  {
   "cell_type": "code",
   "execution_count": 6,
   "metadata": {
    "id": "NzqPfIKgD0E0"
   },
   "outputs": [],
   "source": [
    "# Create linear regression object\n",
    "regr = linear_model.LinearRegression()\n",
    "\n",
    "# Train the model using the training set\n",
    "regr.fit(X, y)\n",
    "\n",
    "# Make predictions using the testing set\n",
    "y_pred = regr.predict(X)\n"
   ]
  },
  {
   "cell_type": "code",
   "execution_count": 7,
   "metadata": {
    "colab": {
     "base_uri": "https://localhost:8080/",
     "height": 334
    },
    "executionInfo": {
     "elapsed": 1566,
     "status": "ok",
     "timestamp": 1604470386238,
     "user": {
      "displayName": "Jorgos Ioannakis",
      "photoUrl": "https://lh3.googleusercontent.com/a-/AOh14GiGRnuMp4jeJHSI1TWMtYkNeWwXB_1fc02B3ENkLg=s64",
      "userId": "16599971825039495934"
     },
     "user_tz": -120
    },
    "id": "wRqTv2agD0E3",
    "outputId": "6694ad0e-c219-43f4-f4d3-18cfe4aca78f"
   },
   "outputs": [
    {
     "name": "stdout",
     "output_type": "stream",
     "text": [
      "Coefficients:  [1.19303364]\n",
      "Bias:  -3.89578087831185\n",
      "Mean squared error:  8.953942751950358\n",
      "Coefficient of determination:  0.7020315537841397\n"
     ]
    },
    {
     "data": {
      "image/png": "[encoded data removed]",
      "text/plain": [
       "<Figure size 432x288 with 1 Axes>"
      ]
     },
     "metadata": {
      "needs_background": "light"
     },
     "output_type": "display_data"
    }
   ],
   "source": [
    "# The intercept term\n",
    "print(\"Bias: \",regr.intercept_)\n",
    "\n",
    "# The coefficients\n",
    "print(\"Coefficients: \",regr.coef_)\n",
    "\n",
    "# The mean squared error\n",
    "print('Mean squared error: ', metrics.mean_squared_error(y, y_pred))\n",
    "\n",
    "# The coefficient of determination: 1 is perfect prediction\n",
    "print('Coefficient of determination: ', metrics.r2_score(y,y_pred))\n",
    "\n",
    "# Plot outputs\n",
    "plt.scatter(X[:,0], y,  color='red')#,label='Training data')\n",
    "plt.plot(X[:,0], y_pred, color='blue', linewidth=2,label='Linear Regression Model')\n",
    "#plt.legend()\n",
    "#plt.xlabel(\"City's Population in 10.000's\")\n",
    "#plt.ylabel(\"Average Annual Income in 10.000's\")\n",
    "# plt.yticks(())\n",
    "plt.show()\n"
   ]
  },
  {
   "cell_type": "markdown",
   "metadata": {
    "id": "YwwkmSV33zxc"
   },
   "source": [
    "## 2. Multivariate Linear Regression\n",
    "\n",
    "\n",
    "\n",
    "In the case where our dataset has multiple features to describe a sample, then we have:\n",
    "\n",
    "\\begin{equation}\n",
    "h_\\beta(x)= \\beta_0 + \\beta_1x_1 + \\beta_2x_2+ \\dots + \\beta_nx_n\n",
    "\\end{equation}\n",
    "\n",
    "For mathematical reason in order to linearize the mathematical operations, again we define $x_0=1$.\n",
    "\n",
    "\\begin{equation}\n",
    "\\mathbf{x}^i = \\begin{bmatrix}\n",
    "x_0^i\\\\\n",
    "x_1^i\\\\\n",
    "x_2^i\\\\\n",
    "\\vdots\\\\\n",
    "x_n^i\n",
    "\\end{bmatrix}\n",
    "\\in \\mathbb{R}^{n+1} \\qquad and \\qquad \\mathbf{B}=\\begin{bmatrix}\n",
    "\\beta_0\\\\\n",
    "\\beta_1\\\\\n",
    "\\beta_2\\\\\n",
    "\\vdots\\\\\n",
    "\\beta_n\n",
    "\\end{bmatrix}\n",
    "\\in \\mathbb{R}^{n+1}\n",
    "\\end{equation}\n",
    "\n",
    "for one sample we have the following:\n",
    "\n",
    "\\begin{equation}\n",
    "h_\\beta(x) = \\begin{bmatrix}\\beta_0 & \\beta_1 & \\dots & \\beta_n\\end{bmatrix}\n",
    "\\begin{bmatrix}\n",
    "x_0\\\\\n",
    "x_1\\\\\n",
    "\\vdots\\\\\n",
    "x_n\n",
    "\\end{bmatrix}\n",
    "\\qquad \\Leftrightarrow \\qquad \n",
    "h_\\beta(\\mathbf{x})=B^\\top \\mathbf{x}^i\n",
    "\\end{equation}\n",
    "\n",
    "__Cost Function__\n",
    "\n",
    "The equation is the _same_ with the invariate case and is given below:\n",
    "\n",
    "\\begin{equation}\n",
    "J(\\mathbf{B})=\\frac{1}{2m}\\sum_{i=1}^{m}(h_\\beta (\\mathbf{x}^i)-\\mathbf{y}^i)^2\n",
    "\\end{equation}\n",
    "\n",
    "__Gradient Descent Algorithm__\n",
    "\n",
    "The gradient descent algorith is the same as in the univariate case and is given below:\n",
    "\n",
    "\\begin{equation}\n",
    "\\beta_j := \\beta_j - \\alpha \\frac{\\partial}{\\partial{\\beta_j}}J(\\mathbf{B}), \n",
    "\\end{equation}\n",
    "\n",
    "where: \n",
    "\n",
    "\\begin{equation}\n",
    "\\frac{\\partial}{\\partial \\beta_j} J(\\mathbf{B})= \\frac{1}{2m}\\sum_{i=1}^{m}(h_B(\\mathbf{x}^i)-y^i)^2\n",
    "\\end{equation}\n",
    "\n",
    "__Partial derivatives__\n",
    "\\begin{equation}\n",
    "\\beta_0: \\frac{\\partial}{\\partial\\beta_0}J(\\mathbf{B})= \\frac{1}{m}\\sum_{i=1}^{m}(h_B(\\mathbf{x}^i)-y^i)x_0^i\\\\\n",
    "\\beta_1: \\frac{\\partial}{\\partial\\theta_1}J(\\mathbf{B})= \\frac{1}{m}\\sum_{i=1}^{m}(h_B(\\mathbf{x}^i)-y^i)x_1^i\\\\\n",
    "\\vdots\\\\\n",
    "\\beta_n: \\frac{\\partial}{\\partial\\beta_1}J(\\mathbf{B})= \\frac{1}{m}\\sum_{i=1}^{m}(h_B(\\mathbf{x}^i)-y^i)x_n^i\\\\\n",
    "\\end{equation}\n"
   ]
  },
  {
   "cell_type": "markdown",
   "metadata": {
    "id": "AHbyZA0e29V_"
   },
   "source": [
    "## Exercise: House price estimation according to a house area and number of rooms. \n",
    "\n",
    "In this case we have linear regression with _two features_ (_multivariate linear regression_), that are the: _area_ and _number of rooms_. To perform linear regression to define the house price, we are going to exploit the Housing Prices (Portland, OR) dataset. \n",
    "\n",
    "| A/A | Area in feet^2 ($x_1$) | Nr. of rooms ($x_2$)| Price ($)(y) |\n",
    "| :------ | :-------: | :------- | :------- | \n",
    "| 0 | 2104 | 3 | 399900 |\n",
    "| 1 | 1600 | 3 | 329900 |\n",
    "| 2 | 2400 | 3 | 369000 |\n",
    "| 3 | 3000 | 2 | 232000 |\n",
    "\n",
    "Notation:\n",
    "- **m** = number of training samples\n",
    "- **x** = \"input\" variable/features\n",
    "- **y** = \"output\" variable/ \"target\" variable \n",
    "\n",
    "Example:\n",
    "\n",
    "(x,y) is a training sample.\n",
    "\n",
    "$(x^n,y^n)$ is the $n^{th}$ sample from the training set."
   ]
  },
  {
   "cell_type": "code",
   "execution_count": 5,
   "metadata": {
    "id": "hnaKBIa53zxd",
    "outputId": "1aea6222-8089-45f6-e1f8-1a488cffa79f"
   },
   "outputs": [
    {
     "name": "stdout",
     "output_type": "stream",
     "text": [
      "(47, 3)\n"
     ]
    },
    {
     "data": {
      "image/png": "[encoded data removed]",
      "text/plain": [
       "<Figure size 360x360 with 6 Axes>"
      ]
     },
     "metadata": {
      "needs_background": "light"
     },
     "output_type": "display_data"
    },
    {
     "data": {
      "image/png": "[encoded data removed]",
      "text/plain": [
       "<Figure size 180x180 with 2 Axes>"
      ]
     },
     "metadata": {
      "needs_background": "light"
     },
     "output_type": "display_data"
    }
   ],
   "source": [
    "# Import Data\n",
    "filename = \"./data/multivariate_linear_regression.txt\"\n",
    "data_multi = pd.read_csv(filename,header=None,names =[\"Area\", \"Rooms\",\"Price\"]) # if yout csv has not a header line use data = pd.read_csv(filename,header=None) instead\n",
    "\n",
    "# Inspect data\n",
    "sns.pairplot(data_multi[[\"Area\", \"Rooms\"]], diag_kind=\"kde\")\n",
    "sns.pairplot(data_multi[[\"Area\"]], diag_kind=\"kde\")\n",
    "\n",
    "# Inspect Data\n",
    "data_multi.head()\n",
    "\n",
    "# Assign features to x and income values to y\n",
    "temp_multi = data_multi.to_numpy()\n",
    "print(temp_multi.shape)\n",
    "X_multi = temp_multi[:,:-1] # get features\n",
    "y_multi = temp_multi[:,-1] # get output values\n",
    "\n",
    "\n",
    "#X_multi = np.column_stack((np.ones((X.shape[0])),X))"
   ]
  },
  {
   "cell_type": "code",
   "execution_count": null,
   "metadata": {
    "id": "5zjiKFmL3zxf"
   },
   "outputs": [],
   "source": [
    "# Create linear regression object\n",
    "regr_multi = linear_model.LinearRegression()\n",
    "\n",
    "# Train the model using the training sets\n",
    "regr_multi.fit(X_multi, y_multi)\n",
    "\n",
    "# Make predictions using the testing set\n",
    "y_pred_multi = regr_multi.predict(X_multi)"
   ]
  },
  {
   "cell_type": "code",
   "execution_count": null,
   "metadata": {
    "id": "5LuiEVUn29V_",
    "outputId": "559d4dad-4145-492e-9ebb-2c20dd6d9c8f"
   },
   "outputs": [
    {
     "name": "stdout",
     "output_type": "stream",
     "text": [
      "Theta's:  [  139.21067402 -8738.01911233]\n",
      "Bias:  89597.90954279754\n",
      "Mean squared error:  4086560101.2056565\n",
      "Coefficient of determination:  0.7329450180289143\n"
     ]
    }
   ],
   "source": [
    "# The coefficients\n",
    "print(\"Beta's: \",regr_multi.coef_)\n",
    "\n",
    "# The bias term\n",
    "print(\"Bias: \",regr_multi.intercept_)\n",
    "\n",
    "# The mean squared error\n",
    "print('Mean squared error: ', metrics.mean_squared_error(y_multi, y_pred_multi))\n",
    "\n",
    "# The coefficient of determination: 1 is perfect prediction\n",
    "print('Coefficient of determination: ', metrics.r2_score(y_multi,y_pred_multi))\n"
   ]
  },
  {
   "cell_type": "markdown",
   "metadata": {
    "id": "s5u5EnZa3zxr"
   },
   "source": [
    "## 2. Feature Scaling & Normalization\n",
    "\n",
    "__Goal__: Make gradient descent algorithm converge more quickly by normalizing the range of features.\n",
    "\n",
    "Very common normalization strategy: $-1\\leq x_i\\leq1$\n",
    "\n",
    "For example: $$x_i=range(0 - 2000)$$\n",
    "\n",
    "$$x_{i\\_norm}=\\frac{x_i-\\mu_i}{\\sigma_i}$$\n",
    "\n",
    "where $\\mu_i:$ average value (mean) $\\sigma_i:$ standard deviation\n",
    "\n",
    "$$ \\mu_i = \\frac{1}{m}\\sum_{j=1}^{m}x_i^j$$ \n",
    "\n",
    "$$ \\sigma_i = \\sqrt{\\frac{1}{m}\\sum_{j=1}^{m}(x_i^j-\\mu_i)^2}$$"
   ]
  },
  {
   "cell_type": "code",
   "execution_count": null,
   "metadata": {
    "id": "NsuI_tYJ3zxr",
    "outputId": "47d6caf8-add0-4921-eec4-10fbd0029b71"
   },
   "outputs": [
    {
     "name": "stdout",
     "output_type": "stream",
     "text": [
      "mu= [[2000.68085106    3.17021277]]\n",
      "sigma= [[7.86202619e+02 7.52842809e-01]]\n",
      "The house price is 456439.71$, for a house of 2 rooms and an area of 3000 feet^2.\n"
     ]
    }
   ],
   "source": [
    "# Make Predictions after performing feature normalization\n",
    "import sys\n",
    "sys.path.insert(1, './exercise/')\n",
    "import linear_regression as lr\n",
    "\n",
    "# Import Data\n",
    "filename = \"./data/multivariate_linear_regression.txt\"\n",
    "data_multi = pd.read_csv(filename,header=None) # if yout csv has not a header line use data = pd.read_csv(filename,header=None) instead\n",
    "\n",
    "# Inspect Data\n",
    "data_multi.head()\n",
    "\n",
    "# Assign features to x and income values to y\n",
    "temp_multi = data_multi.to_numpy()\n",
    "\n",
    "X_temp = temp_multi[:,:-1] # get features\n",
    "y_temp = temp_multi[:,-1] # get output values\n",
    "\n",
    "# Normalize features \n",
    "[X_norm,mu,sigma] = lr.featureNormalize(X_temp)\n",
    "print(\"mu=\",mu)\n",
    "print(\"sigma=\",sigma)\n",
    "\n",
    "# Add X_0 to feature matrix\n",
    "# X_norm = np.column_stack((np.ones((X_norm.shape[0])),X_norm))\n",
    "\n",
    "# Create linear regression object\n",
    "regr_multi = linear_model.LinearRegression()\n",
    "\n",
    "# Train the model using the training sets\n",
    "regr_multi.fit(X_norm, y_multi)\n",
    "\n",
    "# Make predictions using the testing set\n",
    "y_pred_multi = regr_multi.predict(X_norm)\n",
    "\n",
    "# Predict for a house of 3000feet^2 and 2 rooms the cost in US dollars ($)\n",
    "featurevector = [[(3000-mu[0,0])/sigma[0,0],(2-mu[0,1])/sigma[0,1]]]\n",
    "pred = regr_multi.predict(featurevector)\n",
    "\n",
    "print(\"The house price is %.2f$, for a house of %d rooms and an area of %d feet^2.\"%(pred,2,3000))\n"
   ]
  },
  {
   "cell_type": "markdown",
   "metadata": {
    "id": "WiB5makd3zxu"
   },
   "source": [
    "## 3. Non-linear Regression Model\n",
    "\n",
    "With higher order polynomials we can have complex hypothesis functions, that fit our training data better."
   ]
  },
  {
   "cell_type": "code",
   "execution_count": null,
   "metadata": {
    "id": "tdWzM1Dg29V_"
   },
   "outputs": [],
   "source": [
    "# Import Data\n",
    "filename = \"./data/univariate_linear_regression.txt\"\n",
    "data = pd.read_csv(filename) # if yout csv has not a header line use data = pd.read_csv(filename,header=None) instead, \n",
    "# or use data =np.loadtxt(filename, delimiter=',')\n",
    "\n",
    "# Inspect Data\n",
    "data.head()\n",
    "\n",
    "# Assign features to x and income values to y\n",
    "temp = data.to_numpy()\n",
    "X = temp[:,0] # get features\n",
    "y = temp[:,1] # get output values\n",
    "\n",
    "#X = np.reshape(X, (-1, 1))\n",
    "X = np.column_stack((np.ones((X.shape[0])),X))"
   ]
  },
  {
   "cell_type": "code",
   "execution_count": null,
   "metadata": {
    "id": "jhzKPhre3zxu",
    "outputId": "42438f52-5e59-43ce-ecd8-79571962e8d8"
   },
   "outputs": [
    {
     "name": "stdout",
     "output_type": "stream",
     "text": [
      "(97, 28)\n"
     ]
    },
    {
     "data": {
      "image/png": "[encoded data removed]",
      "text/plain": [
       "<Figure size 432x288 with 1 Axes>"
      ]
     },
     "metadata": {
      "needs_background": "light",
      "tags": []
     },
     "output_type": "display_data"
    }
   ],
   "source": [
    "import sys\n",
    "sys.path.insert(1, './exercise/')\n",
    "\n",
    "import linear_regression as lr\n",
    "X_new = lr.mapFeature(X[:,0],X[:,1])\n",
    "\n",
    "print(X_new.shape)\n",
    "# Create linear regression object\n",
    "regr = linear_model.LinearRegression()\n",
    "\n",
    "# Train the model using the training sets\n",
    "regr.fit(X_new, y)\n",
    "\n",
    "# Make predictions using the testing set\n",
    "x = np.linspace(5, 22, 100)\n",
    "X_graph = np.column_stack((np.ones((x.shape[0])),x))\n",
    "X_graph = lr.mapFeature(X_graph[:,0],X_graph[:,1])\n",
    "y_pred2 = regr.predict(X_graph)\n",
    "\n",
    "# Plot outputs\n",
    "plt.scatter(X[:,1], y,  color='red', label='Training data')\n",
    "plt.plot(x, y_pred2, color='blue', linewidth=2, label='non-linear linear regression model')\n",
    "plt.xlabel(\"City Population in 10.000's\")\n",
    "plt.ylabel(\"Average Income per inhabitant in $10.000\")\n",
    "plt.legend(loc='lower right')\n",
    "plt.show()\n"
   ]
  },
  {
   "cell_type": "markdown",
   "metadata": {
    "id": "SVDdPk8e3zxy"
   },
   "source": [
    "## 4. Overfitting - The \"nightmare\" of machine learning\n",
    "\n",
    "- <u>Overfitting</u>: Using a too higher order polynomial, the learned hypothesis function may fit the training set very well, but fail to generalize for _unseen_ (test) samples.\n",
    "\n",
    "<img src=\"./figures/overfitting.png\" alt=\"Overfitting\" height=\"200px\">"
   ]
  },
  {
   "cell_type": "markdown",
   "metadata": {
    "id": "sDHXWRgBD0E9"
   },
   "source": [
    "## 5. Analytically aim for the solution\n",
    "To find the parameters $\\Theta$ that minimize the cost function, there is a _closed-form solution (i.e. a mathematical equation that gives the result directly). \n",
    "\n",
    "- Set every partial derivative of the cost function, with respect to the parameterers $\\theta$, to zero..\n",
    "\n",
    "in linear algebra we have the normal equation: \n",
    "\n",
    "\\begin{equation}\n",
    "\\Theta = (X^{T}X)^{-1}X^{T}y\n",
    "\\end{equation}\n",
    "\n",
    "\n",
    "#### Non-invertible $X^TX$\n",
    "\n",
    "- _Linearly dependent features_: \n",
    "\n",
    "    > some features are redundant and need to be deleted\n",
    "    \n",
    "    \n",
    "- _Too many features in contrast to the number of training samples_:\n",
    "\n",
    "    > again some features have to be deleted\n",
    "    \n",
    "Subject that will be confronted within the _Dimensionality Reduction Chapter_.\n",
    "\n"
   ]
  },
  {
   "cell_type": "code",
   "execution_count": 1,
   "metadata": {},
   "outputs": [
    {
     "ename": "NameError",
     "evalue": "name 'pd' is not defined",
     "output_type": "error",
     "traceback": [
      "\u001b[1;31m---------------------------------------------------------------------------\u001b[0m",
      "\u001b[1;31mNameError\u001b[0m                                 Traceback (most recent call last)",
      "\u001b[1;32m<ipython-input-1-f1df1c0e5400>\u001b[0m in \u001b[0;36m<module>\u001b[1;34m\u001b[0m\n\u001b[0;32m      1\u001b[0m \u001b[1;31m# Import Data\u001b[0m\u001b[1;33m\u001b[0m\u001b[1;33m\u001b[0m\u001b[1;33m\u001b[0m\u001b[0m\n\u001b[0;32m      2\u001b[0m \u001b[0mfilename\u001b[0m \u001b[1;33m=\u001b[0m \u001b[1;34m\"./data/univariate_linear_regression.txt\"\u001b[0m\u001b[1;33m\u001b[0m\u001b[1;33m\u001b[0m\u001b[0m\n\u001b[1;32m----> 3\u001b[1;33m \u001b[0mdata\u001b[0m \u001b[1;33m=\u001b[0m \u001b[0mpd\u001b[0m\u001b[1;33m.\u001b[0m\u001b[0mread_csv\u001b[0m\u001b[1;33m(\u001b[0m\u001b[0mfilename\u001b[0m\u001b[1;33m)\u001b[0m \u001b[1;31m# if yout csv has not a header line use data = pd.read_csv(filename,header=None) instead,\u001b[0m\u001b[1;33m\u001b[0m\u001b[1;33m\u001b[0m\u001b[0m\n\u001b[0m\u001b[0;32m      4\u001b[0m \u001b[1;31m# or use data =np.loadtxt(filename, delimiter=',')\u001b[0m\u001b[1;33m\u001b[0m\u001b[1;33m\u001b[0m\u001b[1;33m\u001b[0m\u001b[0m\n\u001b[0;32m      5\u001b[0m \u001b[1;33m\u001b[0m\u001b[0m\n",
      "\u001b[1;31mNameError\u001b[0m: name 'pd' is not defined"
     ]
    }
   ],
   "source": [
    "# Import Data\n",
    "filename = \"./data/univariate_linear_regression.txt\"\n",
    "data = pd.read_csv(filename) # if yout csv has not a header line use data = pd.read_csv(filename,header=None) instead, \n",
    "# or use data =np.loadtxt(filename, delimiter=',')\n",
    "\n",
    "# Inspect Data\n",
    "data.head()\n",
    "\n",
    "# Assign features to x and income values to y\n",
    "temp = data.to_numpy()\n",
    "X = temp[:,0] # get features\n",
    "y = temp[:,1] # get output values\n",
    "\n",
    "#X = np.reshape(X, (-1, 1))\n",
    "X = np.column_stack((np.ones((X.shape[0])),X))"
   ]
  },
  {
   "cell_type": "code",
   "execution_count": null,
   "metadata": {
    "colab": {
     "base_uri": "https://localhost:8080/",
     "height": 232
    },
    "executionInfo": {
     "elapsed": 887,
     "status": "error",
     "timestamp": 1597292814490,
     "user": {
      "displayName": "Jorgos Ioannakis",
      "photoUrl": "https://lh3.googleusercontent.com/a-/AOh14GiGRnuMp4jeJHSI1TWMtYkNeWwXB_1fc02B3ENkLg=s64",
      "userId": "16599971825039495934"
     },
     "user_tz": -180
    },
    "id": "EaKEQzzoD0E9",
    "outputId": "55b1b6f9-25cb-4c62-8ba0-f54178d8891c"
   },
   "outputs": [
    {
     "name": "stdout",
     "output_type": "stream",
     "text": [
      "Theta:  [-3.89578088  1.19303364]\n"
     ]
    },
    {
     "data": {
      "image/png": "[encoded data removed]",
      "text/plain": [
       "<Figure size 432x288 with 1 Axes>"
      ]
     },
     "metadata": {
      "tags": []
     },
     "output_type": "display_data"
    }
   ],
   "source": [
    "from numpy.linalg import inv\n",
    "\n",
    "# analytically calculate solution\n",
    "theta2 = np.matmul(np.matmul(inv(np.matmul(X.T,X)),X.T),y)\n",
    "print(\"Beta: \",theta2)\n",
    "\n",
    "# make predictions\n",
    "y_pred2 = theta2[0]+theta2[1]*X[:,1]\n",
    "\n",
    "\n",
    "# Plot outputs\n",
    "plt.scatter(X[:,1], y,  color='red',label='Training Data')\n",
    "plt.plot(X[:,1], y_pred2, color='black', linewidth=1 ,label='Analytical Solution')\n",
    "plt.xticks(())\n",
    "plt.yticks(())\n",
    "plt.plot(X[:,1],y_pred2,color='blue', linewidth=1,label='Linear Regression')\n",
    "plt.legend()\n",
    "plt.show()\n"
   ]
  },
  {
   "cell_type": "markdown",
   "metadata": {
    "id": "8_5iBbPxD0FA"
   },
   "source": [
    "## 6. Sum up \n",
    "\n",
    "| Gradient Descent | Normal equation | \n",
    "|:--- |:--- | \n",
    "| 1. Need to choose learning rate $\\alpha$. | No need to choose _a_. |\n",
    "| 2. Needs many iterations | No need for iterations | \n",
    "| 3. Works well with even large number of features | Need to compute $(X^TX)^{-1}$ $O(n^3)$ |\n",
    "| 4. Roughly $n \\geq 10^6$ choose gradient descent. | Slow if $n$ is very large. |\n",
    "\n",
    "<u>where</u>:<br>\n",
    "n -> the number of features and<br>\n",
    "m -> the number of training samples.\n",
    "\n"
   ]
  },
  {
   "cell_type": "markdown",
   "metadata": {
    "id": "4-8i2YsGD0FA"
   },
   "source": [
    "## References \n",
    "\n",
    "1. Scikit-Learn Linear Regression Example <br>\n",
    "https://scikit-learn.org/stable/auto_examples/linear_model/plot_ols.html#sphx-glr-auto-examples-linear-model-plot-ols-py\n",
    "\n",
    "2. Scikit-learn: Machine Learning in Python, Pedregosa et al., JMLR 12, pp. 2825-2830, 2011\n",
    "\n",
    "3. Machine Learning (Coursera), Andrew Ng <br>\n",
    "https://www.coursera.org/learn/machine-learning?\n",
    "\n",
    "4. Hands-On Machine Learning with Scikit-Learn, Keras & TensorFlow (2nd Edition), Aurélien Géron, 2019."
   ]
  },
  {
   "cell_type": "code",
   "execution_count": null,
   "metadata": {
    "id": "rEuTHMVLD0FB"
   },
   "outputs": [],
   "source": []
  }
 ],
 "metadata": {
  "colab": {
   "name": "lesson_1_Linear Regression.ipynb",
   "provenance": [],
   "toc_visible": true
  },
  "kernelspec": {
   "display_name": "Python 3",
   "language": "python",
   "name": "python3"
  },
  "language_info": {
   "codemirror_mode": {
    "name": "ipython",
    "version": 3
   },
   "file_extension": ".py",
   "mimetype": "text/x-python",
   "name": "python",
   "nbconvert_exporter": "python",
   "pygments_lexer": "ipython3",
   "version": "3.8.6"
  }
 },
 "nbformat": 4,
 "nbformat_minor": 1
}
