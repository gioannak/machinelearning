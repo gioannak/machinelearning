{
 "cells": [
  {
   "cell_type": "markdown",
   "metadata": {},
   "source": [
    "# Introduction\n",
    "\n",
    "Classification is a task that requires the use of machine learning algorithms that learn how to assign a class label to examples from the problem domain.\n",
    "\n",
    "<br>\n",
    "\n",
    "__Classifiers__ are divided into: \n",
    "- __Generative__: A generative model would have the goal of understanding what dogs look like and what cats look like. You might literally ask such a model to ‘generate’, i.e. draw, a dog. Given a test image, the system then asks whether it’s the cat model or the dog model that better fits (is less surprised by) the image, and chooses that as its label.\n",
    "- __Disriminative__: A discriminative model, by contrast, is only trying to learn to distinguish the classes (perhaps without learning much about them). So maybe all the dogs in the training data are wearing collars and the cats aren’t. If that one feature neatly separates the classes, the model is satisfied. If you ask such a model what it knows about cats all it can say is that they don’t wear collars.\n",
    "\n",
    "<br>\n",
    "\n",
    "__Decision Boundaries__\n",
    "\n",
    "<br>\n",
    "\n",
    "\n",
    "<img src=\"./figs/boundaries.png\" alt=\"Decision Boundaries\" width=\"400px\"> \n",
    "<p style=\"text-align: center;\">     \n",
    "    <b>Figure:</b> <i>Linear</i> Decision Boundary (left) and <i>non-linear</i> Decision Boundary(right).    \n",
    "</p>    \n",
    "\n",
    "\n",
    "\n",
    "\n",
    "## Outline\n",
    "- Classification: the sigmoid \n",
    "- Logistic Regression Model/Activation Functions\n",
    "- Hypothesis Function\n",
    "- Cost Function (Cross-Entropy Loss/Cost function)\n",
    "- Stochastic Gradient Descent\n"
   ]
  },
  {
   "cell_type": "markdown",
   "metadata": {},
   "source": [
    "# Logistic Regression\n",
    "<div style=\"text-align: justify\">\n",
    "<b>Logistic regression</b> is a <i>supervised learning</i> algorithm used for <b>classification</b> purposes. It is a probabilistic model that classifies the instances in terms of probabilities. It measures the relationship between the categorical dependent variable ($y$) and one or more independent variables ($\\mathbf{x}$) by estimating probabilities using a logistic function, which is the cumulative distribution function of logistic distribution.\n",
    "</div>\n",
    "\\begin{equation}\n",
    " \\mathbf{X} = \\begin{bmatrix}\n",
    " x_1^1 & x_2^1 & \\dots & x_n^1\\\\\n",
    " x_1^2 & x_2^2 & \\dots & x_n^2\\\\\n",
    " \\vdots &  & \\ddots & \\vdots\\\\\n",
    " x_1^m & x_2^m & \\dots & x_n^m\\\\\n",
    " \\end{bmatrix}\n",
    " \\quad and \\quad\n",
    " \\mathbf{y} = \\begin{bmatrix}\n",
    " y^1\\\\\n",
    " y^2\\\\\n",
    " \\vdots\\\\\n",
    " y^m\n",
    " \\end{bmatrix}\n",
    "\\end{equation}\n",
    "\n",
    "\n",
    "\n",
    "\n",
    "__Important Quotes:__\n",
    "- _Jurafsky & Martin_, 2019. Logistic regression is one of the most important analytic tools in the social and natural sciences. In natural language processing, logistic regression is the <u>baseline</u> supervised machine learning algorithm or classification, and also has a very close relationship with neural networks.\n",
    "\n",
    "\n",
    "\n",
    "\n",
    "Note: Logistic Regression is a classification algorithm (or classifier), for historical reasons it is named in this way and contains the word <u>regression</u>. \n",
    "\n",
    "__Classification task examples:__\n",
    "- <u>Email</u>: Spam/Not Spam?\n",
    "- <u>Online Transactions</u>: Fraudulent (yes/no)?\n",
    "- <u>Tumor</u>: Malignant/Benign?\n",
    "\n",
    "\n",
    "- The independent variable $\\mathbf{X}$ is an $m\\times n$ matrix, where each $i^{th}$_row_ corresponds to the $i^{th}$ sample and $j^{th}$_column_ corresponds to the $j^{th}$ feature (e.g. area of a house).\n",
    "- The dependent variable $\\mathbf{y}$ is an $m$-_sized_ vector, where $i^{th}$ _element_ corresponds to the <u>class</u> of the $i^{th}$ _sample_, where $y^i\\in\\{0,1\\}$.\n",
    "\n",
    "\n",
    "\n",
    "Logistic Regression is a _probabilistic_ classifier that makes use of supervised machine learning. Hence, logistic regression, as any supervised learning classifiers, requires a training set of _m_-samples ($x^i,y^i$). It is commonly applied to all sorts of NLP tasks, and any property\n",
    "of the input can be a feature. \n",
    "\n",
    "__Hypothesis function presentation__\n",
    "\n",
    "The goal of binary logistic regression is to train a classifier that can make a binary decision about the class of a new input observation. Here we introduce the sigmoid classifier that will help us make this decision.\n",
    "\n",
    "\\begin{equation}\n",
    "0\\leq h_\\Theta(x)\\leq 1\n",
    "\\end{equation}\n",
    "\n",
    "Thus, we are going to use a function with a bounded output: $(0,1)$. The __sigmoid__ (or __logistic__) function takes real values as an input and maps them to the bounded range. It's equation and graph is given below:\n",
    "<br><br>\n",
    "\\begin{equation}\n",
    "g(z)=\\frac{1}{1+e^{-z}}\n",
    "\\end{equation}<img src=\"./figs/sigmoid.gif\"  style=\"float: inline;\">\n",
    "\n",
    "where:\n",
    "\n",
    "\\begin{equation}\n",
    "z = \\Theta^T  X\n",
    "\\end{equation}\n",
    "\n",
    "The sigmoid function belongs to the __activation functions__.\n",
    "\n",
    "__Cost Function__\n",
    "\n",
    "_Cross-entropy_ loss, or log loss, measures the performance of a classifier (a.k.a classification model) whose output is a probability value between 0 and 1. Cross-entropy loss increases as the predicted probability diverges from the actual label. A perfect model would have a log loss of 0.\n",
    "\n",
    "\\begin{equation}\n",
    "J(\\Theta)=\\frac{1}{m} \\sum_{i=1}^{m}[y^i\\log h_\\Theta(x^i)+(1-y^i)\\log(1-h_\\Theta(x^i))]\n",
    "\\end{equation}\n",
    "\n",
    "The cross entropy partial derivatives with respect to $\\theta_{0,\\dots,n}$ are given through:\n",
    "\n",
    "\\begin{equation}\n",
    "\\frac{\\partial}{\\partial \\theta_j}J(\\Theta)= \\frac{1}{m}\\sum_{i=1}^{m}(h_\\Theta(x^i)-y^i)x_j^i\n",
    "\\end{equation}\n",
    "\n",
    "\n",
    "We can measure the accuracy of our hypothesis function by using a cost function. This takes an average (actually a fancier version of an average) of all the results of the hypothesis with inputs from  𝐱𝑖  compared to the actual output  𝐲𝑖 .\n",
    "\n",
    "To define the optimum parameters  $\\theta_0$ and $\\theta_1$, it is necessary to use a metric as to quantify how well our hypothesis function fits the data; the cost function. The equation is given below:\n",
    "\n",
    "\n",
    "\n"
   ]
  },
  {
   "cell_type": "code",
   "execution_count": 1,
   "metadata": {},
   "outputs": [],
   "source": [
    "# import libraries\n",
    "import os\n",
    "import numpy as np\n",
    "from matplotlib import pyplot as plt\n",
    "from scipy import optimize\n",
    "import sys\n",
    "sys.path.append('./exercise/')\n",
    "import logistic_regression as lr "
   ]
  },
  {
   "cell_type": "code",
   "execution_count": 2,
   "metadata": {},
   "outputs": [],
   "source": [
    "# import Data\n",
    "data = np.loadtxt('./data/multivariate_logistic_regression.txt',delimiter=',')\n",
    "X,y = data[:,0:2],data[:,2]"
   ]
  },
  {
   "cell_type": "code",
   "execution_count": 3,
   "metadata": {},
   "outputs": [
    {
     "data": {
      "text/plain": [
       "<matplotlib.legend.Legend at 0x288efbb0e50>"
      ]
     },
     "execution_count": 3,
     "metadata": {},
     "output_type": "execute_result"
    },
    {
     "data": {
      "image/png": "[encoded data removed]",
      "text/plain": [
       "<Figure size 432x288 with 1 Axes>"
      ]
     },
     "metadata": {
      "needs_background": "light"
     },
     "output_type": "display_data"
    }
   ],
   "source": [
    "# plot Data\n",
    "pos = y == 1\n",
    "neg = y == 0\n",
    "\n",
    "plt.plot(X[pos, 0], X[pos, 1], 'k*', lw=2, ms=10)\n",
    "plt.plot(X[neg, 0], X[neg, 1], 'ko', mfc='y', ms=8, mec='k', mew=1)\n",
    "\n",
    "# add axes labels\n",
    "plt.xlabel('Exam 1 score')\n",
    "plt.ylabel('Exam 2 score')\n",
    "plt.legend(['Admitted', 'Not admitted'])"
   ]
  },
  {
   "cell_type": "markdown",
   "metadata": {},
   "source": [
    "## 1.1 Logistic Regression Using Scikit-learn"
   ]
  },
  {
   "cell_type": "code",
   "execution_count": 4,
   "metadata": {},
   "outputs": [],
   "source": [
    "from sklearn import linear_model,metrics\n"
   ]
  },
  {
   "cell_type": "code",
   "execution_count": 5,
   "metadata": {},
   "outputs": [
    {
     "name": "stdout",
     "output_type": "stream",
     "text": [
      "Accuracy:  0.87\n",
      "theta (parameters):  [[-3.9000297   0.03844761  0.03102019]]\n",
      "Mean squared error:  0.13\n",
      "Coefficient of determination:  0.45833333333333337\n"
     ]
    },
    {
     "data": {
      "image/png": "[encoded data removed]",
      "text/plain": [
       "<Figure size 432x288 with 1 Axes>"
      ]
     },
     "metadata": {
      "needs_background": "light"
     },
     "output_type": "display_data"
    }
   ],
   "source": [
    "# add columns with ones\n",
    "m, n = X.shape\n",
    "X = np.concatenate([np.ones((m, 1)), X], axis=1) # other way to add a column of ones\n",
    "\n",
    "# initialize logistic regression model\n",
    "regr = linear_model.LogisticRegression(fit_intercept=False,max_iter=1000)\n",
    "\n",
    "# train the model using training set\n",
    "regr.fit(X,y)\n",
    "\n",
    "# make predictions using the testing set\n",
    "y_pred = regr.predict(X)\n",
    "\n",
    "# classification accuracy\n",
    "print(\"Accuracy: \",regr.score(X, y))\n",
    "\n",
    "# theta's\n",
    "print(\"theta (parameters): \",regr.coef_)\n",
    "\n",
    "# mean squared error\n",
    "print('Mean squared error: ', metrics.mean_squared_error(y, y_pred))\n",
    "\n",
    "# coefficient of determination: 1 is perfect prediction\n",
    "print('Coefficient of determination: ', metrics.r2_score(y,y_pred))\n",
    "\n",
    "# Plot Boundary\n",
    "theta = np.squeeze(regr.coef_)\n",
    "lr.plotDecisionBoundary(lr.plotData, theta, X, y)\n"
   ]
  },
  {
   "cell_type": "markdown",
   "metadata": {},
   "source": [
    "## 2. Logistic Regression using our own library"
   ]
  },
  {
   "cell_type": "code",
   "execution_count": 6,
   "metadata": {},
   "outputs": [],
   "source": [
    "import numpy as np\n",
    "from scipy import optimize\n",
    "import sys\n",
    "sys.path.append('./exercise/')\n",
    "import logistic_regression as lr"
   ]
  },
  {
   "cell_type": "code",
   "execution_count": 7,
   "metadata": {},
   "outputs": [],
   "source": [
    "# import Data\n",
    "data = np.loadtxt('./data/multivariate_logistic_regression.txt',delimiter=',')\n",
    "X,y = data[:,0:2],data[:,2]\n",
    "\n",
    "# add columns with ones\n",
    "m, n = X.shape\n",
    "X = np.concatenate([np.ones((m, 1)), X], axis=1) # other way to add a column of ones"
   ]
  },
  {
   "cell_type": "code",
   "execution_count": 8,
   "metadata": {},
   "outputs": [
    {
     "name": "stdout",
     "output_type": "stream",
     "text": [
      "g( 0 )= 0.5\n"
     ]
    }
   ],
   "source": [
    "# Implement sigmoid function\n",
    "z = 0 \n",
    "g = lr.sigmoid(z)\n",
    "print('g(',z,')=',g)"
   ]
  },
  {
   "cell_type": "code",
   "execution_count": 9,
   "metadata": {},
   "outputs": [
    {
     "name": "stdout",
     "output_type": "stream",
     "text": [
      "Cost at initial theta (zeros): 0.693\n",
      "Expected cost (approx): 0.693\n",
      "\n",
      "Gradient at initial theta (zeros):\n",
      "\t[-0.1000, -12.0092, -11.2628]\n",
      "Expected gradients (approx):\n",
      "\t[-0.1000, -12.0092, -11.2628]\n",
      "\n",
      "Cost at test theta: 0.218\n",
      "Expected cost (approx): 0.218\n",
      "\n",
      "Gradient at test theta:\n",
      "\t[0.043, 2.566, 2.647]\n",
      "Expected gradients (approx):\n",
      "\t[0.043, 2.566, 2.647]\n"
     ]
    }
   ],
   "source": [
    "# Compute Cost\n",
    "theta = np.zeros(X.shape[1])\n",
    "cost, grad = lr.costFunction(theta,X,y)\n",
    "\n",
    "print('Cost at initial theta (zeros): {:.3f}'.format(cost))\n",
    "print('Expected cost (approx): 0.693\\n')\n",
    "\n",
    "print('Gradient at initial theta (zeros):')\n",
    "print('\\t[{:.4f}, {:.4f}, {:.4f}]'.format(*grad))\n",
    "print('Expected gradients (approx):\\n\\t[-0.1000, -12.0092, -11.2628]\\n')\n",
    "\n",
    "\n",
    "# Compute and display cost and gradient with non-zero theta\n",
    "test_theta = np.array([-24, 0.2, 0.2])\n",
    "cost, grad = lr.costFunction(test_theta, X, y)\n",
    "\n",
    "print('Cost at test theta: {:.3f}'.format(cost))\n",
    "print('Expected cost (approx): 0.218\\n')\n",
    "\n",
    "print('Gradient at test theta:')\n",
    "print('\\t[{:.3f}, {:.3f}, {:.3f}]'.format(*grad))\n",
    "print('Expected gradients (approx):\\n\\t[0.043, 2.566, 2.647]')"
   ]
  },
  {
   "cell_type": "code",
   "execution_count": 10,
   "metadata": {},
   "outputs": [],
   "source": [
    "options= {'maxiter': 400}\n",
    "res = optimize.minimize(lr.costFunction,\n",
    "                        theta,\n",
    "                        (X, y),\n",
    "                        jac=True,\n",
    "                        method='TNC',\n",
    "                        options=options)\n",
    "\n",
    "# the fun property of `OptimizeResult` object returns\n",
    "# the value of costFunction at optimized theta\n",
    "cost = res.fun\n",
    "\n",
    "# the optimized theta is in the x property\n",
    "theta = res.x"
   ]
  },
  {
   "cell_type": "code",
   "execution_count": 11,
   "metadata": {},
   "outputs": [
    {
     "name": "stdout",
     "output_type": "stream",
     "text": [
      "Cost at theta found by optimize.minimize: 0.203\n",
      "Expected cost (approx): 0.203\n",
      "\n",
      "theta:\n",
      "\t[-25.161, 0.206, 0.201]\n",
      "Expected theta (approx):\n",
      "\t[-25.161, 0.206, 0.201]\n"
     ]
    }
   ],
   "source": [
    "# Print theta to screen\n",
    "print('Cost at theta found by optimize.minimize: {:.3f}'.format(cost))\n",
    "print('Expected cost (approx): 0.203\\n');\n",
    "\n",
    "print('theta:')\n",
    "print('\\t[{:.3f}, {:.3f}, {:.3f}]'.format(*theta))\n",
    "print('Expected theta (approx):\\n\\t[-25.161, 0.206, 0.201]')"
   ]
  },
  {
   "cell_type": "code",
   "execution_count": 12,
   "metadata": {},
   "outputs": [
    {
     "name": "stdout",
     "output_type": "stream",
     "text": [
      "Train Accuracy: 89.00 %\n",
      "Expected accuracy (approx): 89.00 %\n"
     ]
    }
   ],
   "source": [
    "# Compute accuracy on our training set\n",
    "p = lr.predict(theta, X)\n",
    "\n",
    "print('Train Accuracy: {:.2f} %'.format(np.mean(p == y) * 100))\n",
    "print('Expected accuracy (approx): 89.00 %')\n"
   ]
  },
  {
   "cell_type": "code",
   "execution_count": 13,
   "metadata": {},
   "outputs": [
    {
     "data": {
      "image/png": "[encoded data removed]",
      "text/plain": [
       "<Figure size 432x288 with 1 Axes>"
      ]
     },
     "metadata": {
      "needs_background": "light"
     },
     "output_type": "display_data"
    }
   ],
   "source": [
    "# Plot Boundary\n",
    "lr.plotDecisionBoundary(lr.plotData, theta, X, y)"
   ]
  },
  {
   "cell_type": "code",
   "execution_count": 14,
   "metadata": {},
   "outputs": [
    {
     "name": "stdout",
     "output_type": "stream",
     "text": [
      "For a student with scores 45 and 85,we predict an admission probability of 0.776\n",
      "Expected value: 0.775 +/- 0.002\n",
      "\n"
     ]
    }
   ],
   "source": [
    "#  Predict probability for a student with score 45 on exam 1 \n",
    "#  and score 85 on exam 2 \n",
    "prob = lr.sigmoid(np.dot([1, 45, 85], theta))\n",
    "print('For a student with scores 45 and 85,'\n",
    "      'we predict an admission probability of {:.3f}'.format(prob))\n",
    "print('Expected value: 0.775 +/- 0.002\\n')"
   ]
  },
  {
   "cell_type": "markdown",
   "metadata": {},
   "source": [
    "# References\n",
    "1. Logistic Regression Definition:<br>https://en.wikipedia.org/wiki/Logistic_regression\n",
    "2. Machine Learning (Coursera), Andrew Ng<br>\n",
    "https://www.coursera.org/learn/machine-learning\n",
    "3. Speech Language Processing, Daniel Jurafsky & James H. Martin.<br>https://web.stanford.edu/~jurafsky/slp3/5.pdf\n",
    "4. Neural Networks and Deep Learning: A textbook, Ch. Aggarwal\n"
   ]
  },
  {
   "cell_type": "code",
   "execution_count": null,
   "metadata": {},
   "outputs": [],
   "source": []
  }
 ],
 "metadata": {
  "kernelspec": {
   "display_name": "Python 3",
   "language": "python",
   "name": "python3"
  },
  "language_info": {
   "codemirror_mode": {
    "name": "ipython",
    "version": 3
   },
   "file_extension": ".py",
   "mimetype": "text/x-python",
   "name": "python",
   "nbconvert_exporter": "python",
   "pygments_lexer": "ipython3",
   "version": "3.8.6"
  }
 },
 "nbformat": 4,
 "nbformat_minor": 2
}
